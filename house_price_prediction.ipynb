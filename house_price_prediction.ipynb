{
 "cells": [
  {
   "cell_type": "markdown",
   "metadata": {},
   "source": [
    "### Prediksi Harga Rumah di Kabupaten Tangerang\n",
    "#### Daffa Kaisha Pratama Chandra - 55770\n",
    "---\n",
    "##### Import library yang dibutuhkan"
   ]
  },
  {
   "cell_type": "code",
   "execution_count": 1,
   "metadata": {},
   "outputs": [],
   "source": [
    "# Library dasar\n",
    "import pandas as pd\n",
    "import numpy as np\n",
    "from scipy import stats\n",
    "\n",
    "# Library untuk visualisasi\n",
    "import matplotlib.pyplot as plt\n",
    "import seaborn as sns\n",
    "%matplotlib inline\n",
    "\n",
    "# Data Pre-processing\n",
    "from sklearn.preprocessing import StandardScaler, LabelEncoder, MinMaxScaler\n",
    "from sklearn.model_selection import train_test_split, RandomizedSearchCV, KFold, GridSearchCV\n",
    "\n",
    "# Machine Learning\n",
    "from sklearn.linear_model import LinearRegression, Lasso, Ridge # Regresi linear\n",
    "from sklearn.ensemble import RandomForestRegressor # Random forest regressor\n",
    "from xgboost import XGBRegressor # XGBoost\n",
    "\n",
    "# Evaluation\n",
    "from sklearn.metrics import r2_score, mean_absolute_error, mean_squared_error\n",
    "\n",
    "# Ignore warning\n",
    "import warnings\n",
    "warnings.simplefilter('ignore')"
   ]
  },
  {
   "cell_type": "markdown",
   "metadata": {},
   "source": [
    "---\n",
    "#### Baca data harga rumah di tangerang\n",
    "Deskripsi singkat mengenai dataset: <br>\n",
    "Dataset ini diambil dengan cara <i> web scraping </i> pada situs realoka.com. <br>\n",
    "Dataset ini masih berupa data mentah sehingga harus di proses terlebih dahulu.<br>\n",
    "Dataset ini berisi data harga rumah dan spesifikasi rumah di wilayah Kabupaten Tangerang."
   ]
  },
  {
   "cell_type": "code",
   "execution_count": 2,
   "metadata": {},
   "outputs": [
    {
     "data": {
      "text/html": [
       "<div>\n",
       "<style scoped>\n",
       "    .dataframe tbody tr th:only-of-type {\n",
       "        vertical-align: middle;\n",
       "    }\n",
       "\n",
       "    .dataframe tbody tr th {\n",
       "        vertical-align: top;\n",
       "    }\n",
       "\n",
       "    .dataframe thead th {\n",
       "        text-align: right;\n",
       "    }\n",
       "</style>\n",
       "<table border=\"1\" class=\"dataframe\">\n",
       "  <thead>\n",
       "    <tr style=\"text-align: right;\">\n",
       "      <th></th>\n",
       "      <th>nama_rumah</th>\n",
       "      <th>alamat</th>\n",
       "      <th>harga</th>\n",
       "      <th>deskripsi</th>\n",
       "      <th>Tayang Sejak</th>\n",
       "      <th>Luas Tanah</th>\n",
       "      <th>Luas Bangunan</th>\n",
       "      <th>Kamar Tidur</th>\n",
       "      <th>Kamar Mandi</th>\n",
       "      <th>Sertifikat</th>\n",
       "      <th>...</th>\n",
       "      <th>Kelengkapan1</th>\n",
       "      <th>Jumlah Lantai1</th>\n",
       "      <th>Menghadap1</th>\n",
       "      <th>Parkir1</th>\n",
       "      <th>Kolam Renang1</th>\n",
       "      <th>AC1</th>\n",
       "      <th>One Gate1</th>\n",
       "      <th>Pengamanan1</th>\n",
       "      <th>Wilayah</th>\n",
       "      <th>url</th>\n",
       "    </tr>\n",
       "  </thead>\n",
       "  <tbody>\n",
       "    <tr>\n",
       "      <th>0</th>\n",
       "      <td>Rumahku Matagara Tangerang dekat Pusat Pemerin...</td>\n",
       "      <td>Jalan Raya Puspem Tigaraksa, Tangerang Kab</td>\n",
       "      <td>320.400.000</td>\n",
       "      <td>Deskripsi dan SpesifikasiCLUSTER RUMAHKU MATAG...</td>\n",
       "      <td>9 jam yang lalu</td>\n",
       "      <td>30 m2</td>\n",
       "      <td>60 m2</td>\n",
       "      <td>2</td>\n",
       "      <td>1</td>\n",
       "      <td>HGB - Hak Guna Bangunan</td>\n",
       "      <td>...</td>\n",
       "      <td>Kosongan</td>\n",
       "      <td>1.0</td>\n",
       "      <td>Timur</td>\n",
       "      <td>1 mobil</td>\n",
       "      <td>1.0</td>\n",
       "      <td>1.0</td>\n",
       "      <td>1.0</td>\n",
       "      <td>1.0</td>\n",
       "      <td>Kabupaten Tangerang</td>\n",
       "      <td>https://www.realoka.com/417850-rumahku-matagar...</td>\n",
       "    </tr>\n",
       "    <tr>\n",
       "      <th>1</th>\n",
       "      <td>Cluster Terbaru Puri, Cluster Maleo, Banyak Pr...</td>\n",
       "      <td>Puri Jaya Pasar Kemis, Tangerang Kab</td>\n",
       "      <td>500.000.000</td>\n",
       "      <td>Deskripsi dan SpesifikasiPuri Jaya Pasar Kemis...</td>\n",
       "      <td>15 jam yang lalu</td>\n",
       "      <td>60 m2</td>\n",
       "      <td>46 m2</td>\n",
       "      <td>2</td>\n",
       "      <td>2</td>\n",
       "      <td>SHM - Sertifikat Hak Milik</td>\n",
       "      <td>...</td>\n",
       "      <td>None</td>\n",
       "      <td>NaN</td>\n",
       "      <td>None</td>\n",
       "      <td>None</td>\n",
       "      <td>NaN</td>\n",
       "      <td>NaN</td>\n",
       "      <td>NaN</td>\n",
       "      <td>NaN</td>\n",
       "      <td>Kabupaten Tangerang</td>\n",
       "      <td>https://www.realoka.com/412981-cluster-terbaru...</td>\n",
       "    </tr>\n",
       "    <tr>\n",
       "      <th>2</th>\n",
       "      <td>Cluster Maleo Puri Jaya Pasar Kemis, DP Bisa 0</td>\n",
       "      <td>Puri Jaya Pasar Kemis, Tangerang Kab</td>\n",
       "      <td>500.000.000</td>\n",
       "      <td>Deskripsi dan SpesifikasiHunian cluster Maleo ...</td>\n",
       "      <td>16 jam yang lalu</td>\n",
       "      <td>60 m2</td>\n",
       "      <td>46 m2</td>\n",
       "      <td>2</td>\n",
       "      <td>2</td>\n",
       "      <td>SHM - Sertifikat Hak Milik</td>\n",
       "      <td>...</td>\n",
       "      <td>None</td>\n",
       "      <td>NaN</td>\n",
       "      <td>None</td>\n",
       "      <td>None</td>\n",
       "      <td>NaN</td>\n",
       "      <td>NaN</td>\n",
       "      <td>NaN</td>\n",
       "      <td>NaN</td>\n",
       "      <td>Kabupaten Tangerang</td>\n",
       "      <td>https://www.realoka.com/417746-cluster-maleo-p...</td>\n",
       "    </tr>\n",
       "    <tr>\n",
       "      <th>3</th>\n",
       "      <td>New Cluster Puri Jaya, Cluster Maleo, dekat Ko...</td>\n",
       "      <td>Puri Jaya Pasar Kemis Nur Sodik, Tangerang Kab</td>\n",
       "      <td>440.000.000</td>\n",
       "      <td>Deskripsi dan SpesifikasiPuri Jaya adalah PERU...</td>\n",
       "      <td>6 hari yang lalu</td>\n",
       "      <td>60 m2</td>\n",
       "      <td>31 m2</td>\n",
       "      <td>2</td>\n",
       "      <td>1</td>\n",
       "      <td>SHM - Sertifikat Hak Milik</td>\n",
       "      <td>...</td>\n",
       "      <td>None</td>\n",
       "      <td>NaN</td>\n",
       "      <td>None</td>\n",
       "      <td>None</td>\n",
       "      <td>NaN</td>\n",
       "      <td>NaN</td>\n",
       "      <td>NaN</td>\n",
       "      <td>NaN</td>\n",
       "      <td>Kabupaten Tangerang</td>\n",
       "      <td>https://www.realoka.com/408932-new-cluster-pur...</td>\n",
       "    </tr>\n",
       "    <tr>\n",
       "      <th>4</th>\n",
       "      <td>Cluster Tanamera Residence dekat Bandara Soett...</td>\n",
       "      <td>Jalan Gatot Subroto Tanah Merah Sepatan, Tang...</td>\n",
       "      <td>297.000.000</td>\n",
       "      <td>Deskripsi dan SpesifikasiCLUSTER TANAMERA RESI...</td>\n",
       "      <td>1 minggu yang lalu</td>\n",
       "      <td>60 m2</td>\n",
       "      <td>30 m2</td>\n",
       "      <td>2</td>\n",
       "      <td>1</td>\n",
       "      <td>SHM - Sertifikat Hak Milik</td>\n",
       "      <td>...</td>\n",
       "      <td>None</td>\n",
       "      <td>NaN</td>\n",
       "      <td>None</td>\n",
       "      <td>None</td>\n",
       "      <td>NaN</td>\n",
       "      <td>NaN</td>\n",
       "      <td>NaN</td>\n",
       "      <td>NaN</td>\n",
       "      <td>Kabupaten Tangerang</td>\n",
       "      <td>https://www.realoka.com/410318-cluster-tanamer...</td>\n",
       "    </tr>\n",
       "  </tbody>\n",
       "</table>\n",
       "<p>5 rows × 44 columns</p>\n",
       "</div>"
      ],
      "text/plain": [
       "                                          nama_rumah  \\\n",
       "0  Rumahku Matagara Tangerang dekat Pusat Pemerin...   \n",
       "1  Cluster Terbaru Puri, Cluster Maleo, Banyak Pr...   \n",
       "2     Cluster Maleo Puri Jaya Pasar Kemis, DP Bisa 0   \n",
       "3  New Cluster Puri Jaya, Cluster Maleo, dekat Ko...   \n",
       "4  Cluster Tanamera Residence dekat Bandara Soett...   \n",
       "\n",
       "                                              alamat        harga  \\\n",
       "0         Jalan Raya Puspem Tigaraksa, Tangerang Kab  320.400.000   \n",
       "1               Puri Jaya Pasar Kemis, Tangerang Kab  500.000.000   \n",
       "2               Puri Jaya Pasar Kemis, Tangerang Kab  500.000.000   \n",
       "3     Puri Jaya Pasar Kemis Nur Sodik, Tangerang Kab  440.000.000   \n",
       "4   Jalan Gatot Subroto Tanah Merah Sepatan, Tang...  297.000.000   \n",
       "\n",
       "                                           deskripsi        Tayang Sejak  \\\n",
       "0  Deskripsi dan SpesifikasiCLUSTER RUMAHKU MATAG...     9 jam yang lalu   \n",
       "1  Deskripsi dan SpesifikasiPuri Jaya Pasar Kemis...    15 jam yang lalu   \n",
       "2  Deskripsi dan SpesifikasiHunian cluster Maleo ...    16 jam yang lalu   \n",
       "3  Deskripsi dan SpesifikasiPuri Jaya adalah PERU...    6 hari yang lalu   \n",
       "4  Deskripsi dan SpesifikasiCLUSTER TANAMERA RESI...  1 minggu yang lalu   \n",
       "\n",
       "  Luas Tanah Luas Bangunan  Kamar Tidur  Kamar Mandi  \\\n",
       "0      30 m2         60 m2            2            1   \n",
       "1      60 m2         46 m2            2            2   \n",
       "2      60 m2         46 m2            2            2   \n",
       "3      60 m2         31 m2            2            1   \n",
       "4      60 m2         30 m2            2            1   \n",
       "\n",
       "                   Sertifikat  ... Kelengkapan1 Jumlah Lantai1 Menghadap1  \\\n",
       "0     HGB - Hak Guna Bangunan  ...     Kosongan            1.0      Timur   \n",
       "1  SHM - Sertifikat Hak Milik  ...         None            NaN       None   \n",
       "2  SHM - Sertifikat Hak Milik  ...         None            NaN       None   \n",
       "3  SHM - Sertifikat Hak Milik  ...         None            NaN       None   \n",
       "4  SHM - Sertifikat Hak Milik  ...         None            NaN       None   \n",
       "\n",
       "    Parkir1 Kolam Renang1  AC1  One Gate1  Pengamanan1              Wilayah  \\\n",
       "0  1 mobil            1.0  1.0        1.0          1.0  Kabupaten Tangerang   \n",
       "1      None           NaN  NaN        NaN          NaN  Kabupaten Tangerang   \n",
       "2      None           NaN  NaN        NaN          NaN  Kabupaten Tangerang   \n",
       "3      None           NaN  NaN        NaN          NaN  Kabupaten Tangerang   \n",
       "4      None           NaN  NaN        NaN          NaN  Kabupaten Tangerang   \n",
       "\n",
       "                                                 url  \n",
       "0  https://www.realoka.com/417850-rumahku-matagar...  \n",
       "1  https://www.realoka.com/412981-cluster-terbaru...  \n",
       "2  https://www.realoka.com/417746-cluster-maleo-p...  \n",
       "3  https://www.realoka.com/408932-new-cluster-pur...  \n",
       "4  https://www.realoka.com/410318-cluster-tanamer...  \n",
       "\n",
       "[5 rows x 44 columns]"
      ]
     },
     "execution_count": 2,
     "metadata": {},
     "output_type": "execute_result"
    }
   ],
   "source": [
    "# Baca data\n",
    "rumah = pd.read_csv(\"rumah_kab_tangerang.csv\", engine='pyarrow')\n",
    "rumah.head()"
   ]
  },
  {
   "cell_type": "code",
   "execution_count": 3,
   "metadata": {},
   "outputs": [
    {
     "name": "stdout",
     "output_type": "stream",
     "text": [
      "<class 'pandas.core.frame.DataFrame'>\n",
      "RangeIndex: 2310 entries, 0 to 2309\n",
      "Data columns (total 44 columns):\n",
      " #   Column          Non-Null Count  Dtype  \n",
      "---  ------          --------------  -----  \n",
      " 0   nama_rumah      2310 non-null   object \n",
      " 1   alamat          2310 non-null   object \n",
      " 2   harga           2310 non-null   object \n",
      " 3   deskripsi       2310 non-null   object \n",
      " 4   Tayang Sejak    2310 non-null   object \n",
      " 5   Luas Tanah      2310 non-null   object \n",
      " 6   Luas Bangunan   2310 non-null   object \n",
      " 7   Kamar Tidur     2310 non-null   int64  \n",
      " 8   Kamar Mandi     2310 non-null   int64  \n",
      " 9   Sertifikat      2310 non-null   object \n",
      " 10  Kondisi         2310 non-null   object \n",
      " 11  Kelengkapan     2310 non-null   object \n",
      " 12  Jumlah Lantai   2310 non-null   object \n",
      " 13  Menghadap       2310 non-null   object \n",
      " 14  Daya Listrik    1666 non-null   object \n",
      " 15  Parkir          2310 non-null   object \n",
      " 16  AC              533 non-null    float64\n",
      " 17  Kitchen Set     399 non-null    float64\n",
      " 18  Alat Dapur      159 non-null    float64\n",
      " 19  Water Heater    180 non-null    float64\n",
      " 20  Air Sumur Bor   701 non-null    float64\n",
      " 21  Balkon          412 non-null    float64\n",
      " 22  One Gate        1231 non-null   float64\n",
      " 23  Pengamanan      1402 non-null   float64\n",
      " 24  Air PAM         718 non-null    float64\n",
      " 25  Kolam Renang    453 non-null    float64\n",
      " 26  K. Pembantu     247 non-null    float64\n",
      " 27  Tayang Sejak1   1 non-null      object \n",
      " 28  Luas Tanah1     1 non-null      object \n",
      " 29  Luas Bangunan1  1 non-null      object \n",
      " 30  Kamar Tidur1    1 non-null      float64\n",
      " 31  Kamar Mandi1    1 non-null      float64\n",
      " 32  Sertifikat1     1 non-null      object \n",
      " 33  Kondisi1        1 non-null      object \n",
      " 34  Kelengkapan1    1 non-null      object \n",
      " 35  Jumlah Lantai1  1 non-null      float64\n",
      " 36  Menghadap1      1 non-null      object \n",
      " 37  Parkir1         1 non-null      object \n",
      " 38  Kolam Renang1   1 non-null      float64\n",
      " 39  AC1             1 non-null      float64\n",
      " 40  One Gate1       1 non-null      float64\n",
      " 41  Pengamanan1     1 non-null      float64\n",
      " 42  Wilayah         2310 non-null   object \n",
      " 43  url             2310 non-null   object \n",
      "dtypes: float64(18), int64(2), object(24)\n",
      "memory usage: 794.2+ KB\n"
     ]
    }
   ],
   "source": [
    "rumah.info()"
   ]
  },
  {
   "cell_type": "markdown",
   "metadata": {},
   "source": [
    "Karena dataset yang diimport masih berupa data mentah, maka akan dilakukan data cleaning terlebih dahulu. Proses data cleaning disini mencakup membuang kolom yang terduplikat dan mengganti nilai NaN pada dataset dengan 0."
   ]
  },
  {
   "cell_type": "code",
   "execution_count": 4,
   "metadata": {},
   "outputs": [
    {
     "name": "stdout",
     "output_type": "stream",
     "text": [
      "<class 'pandas.core.frame.DataFrame'>\n",
      "RangeIndex: 2310 entries, 0 to 2309\n",
      "Data columns (total 29 columns):\n",
      " #   Column         Non-Null Count  Dtype  \n",
      "---  ------         --------------  -----  \n",
      " 0   nama_rumah     2310 non-null   object \n",
      " 1   alamat         2310 non-null   object \n",
      " 2   harga          2310 non-null   object \n",
      " 3   deskripsi      2310 non-null   object \n",
      " 4   Tayang Sejak   2310 non-null   object \n",
      " 5   Luas Tanah     2310 non-null   object \n",
      " 6   Luas Bangunan  2310 non-null   object \n",
      " 7   Kamar Tidur    2310 non-null   int64  \n",
      " 8   Kamar Mandi    2310 non-null   int64  \n",
      " 9   Sertifikat     2310 non-null   object \n",
      " 10  Kondisi        2310 non-null   object \n",
      " 11  Kelengkapan    2310 non-null   object \n",
      " 12  Jumlah Lantai  2310 non-null   object \n",
      " 13  Menghadap      2310 non-null   object \n",
      " 14  Daya Listrik   1666 non-null   object \n",
      " 15  Parkir         2310 non-null   object \n",
      " 16  AC             533 non-null    float64\n",
      " 17  Kitchen Set    399 non-null    float64\n",
      " 18  Alat Dapur     159 non-null    float64\n",
      " 19  Water Heater   180 non-null    float64\n",
      " 20  Air Sumur Bor  701 non-null    float64\n",
      " 21  Balkon         412 non-null    float64\n",
      " 22  One Gate       1231 non-null   float64\n",
      " 23  Pengamanan     1402 non-null   float64\n",
      " 24  Air PAM        718 non-null    float64\n",
      " 25  Kolam Renang   453 non-null    float64\n",
      " 26  K. Pembantu    247 non-null    float64\n",
      " 27  Wilayah        2310 non-null   object \n",
      " 28  url            2310 non-null   object \n",
      "dtypes: float64(11), int64(2), object(16)\n",
      "memory usage: 523.5+ KB\n"
     ]
    }
   ],
   "source": [
    "# Drop kolom yang tidak duplikat. Kolom pada index 27 - 43\n",
    "rumah = rumah.iloc[:, list(range(0, 27)) + list(range(42, 44))]\n",
    "rumah.info()"
   ]
  },
  {
   "cell_type": "markdown",
   "metadata": {},
   "source": [
    "Kolom yang terduplikat berhasil dihapus"
   ]
  },
  {
   "cell_type": "code",
   "execution_count": 5,
   "metadata": {},
   "outputs": [
    {
     "data": {
      "text/plain": [
       "nama_rumah          0\n",
       "alamat              0\n",
       "harga               0\n",
       "deskripsi           0\n",
       "Tayang Sejak        0\n",
       "Luas Tanah          0\n",
       "Luas Bangunan       0\n",
       "Kamar Tidur         0\n",
       "Kamar Mandi         0\n",
       "Sertifikat          0\n",
       "Kondisi             0\n",
       "Kelengkapan         0\n",
       "Jumlah Lantai       0\n",
       "Menghadap           0\n",
       "Daya Listrik      644\n",
       "Parkir              0\n",
       "AC               1777\n",
       "Kitchen Set      1911\n",
       "Alat Dapur       2151\n",
       "Water Heater     2130\n",
       "Air Sumur Bor    1609\n",
       "Balkon           1898\n",
       "One Gate         1079\n",
       "Pengamanan        908\n",
       "Air PAM          1592\n",
       "Kolam Renang     1857\n",
       "K. Pembantu      2063\n",
       "Wilayah             0\n",
       "url                 0\n",
       "dtype: int64"
      ]
     },
     "execution_count": 5,
     "metadata": {},
     "output_type": "execute_result"
    }
   ],
   "source": [
    "# Mengganti nilai NaN dengan 0.\n",
    "# Cek kolom yang terdapat missing values terlebih dahulu\n",
    "rumah.isnull().sum()"
   ]
  },
  {
   "cell_type": "code",
   "execution_count": 6,
   "metadata": {},
   "outputs": [
    {
     "name": "stdout",
     "output_type": "stream",
     "text": [
      "Nilai unik pada kolom Daya Listrik: ['1300 VA' '2200 VA' '22000 VA' '13000 VA' '900 VA' '3500 VA' None\n",
      " '3300 VA' '5500 VA' '4400 VA' '5200 VA' '7700 VA' '10000 VA' '220 VA'\n",
      " '3600 VA' '2600 VA' '14000 VA' '35000 VA' '1200 VA' '16500 VA' '16000 VA'\n",
      " '6600 VA' '5000 VA' '3000 VA' '4000 VA' '440 VA' '11000 VA' '2300 VA'\n",
      " '10600 VA' '8700 VA' '9000 VA' '1400 VA' '23000 VA' '1300000 VA'\n",
      " '2000 VA' '130 VA' '1350 VA' '2500 VA' '990 VA' '1500 VA' '3800 VA'\n",
      " '130000 VA' '1000 VA' '950 VA']\n",
      "Nilai unik pada kolom Kolam Renang: [nan  1.]\n",
      "Nilai unik pada kolom Air PAM: [nan  1.]\n",
      "Nilai unik pada kolom One Gate: [ 1. nan]\n",
      "Nilai unik pada kolom Pengamanan: [ 1. nan]\n",
      "Nilai unik pada kolom AC: [ 1. nan]\n",
      "Nilai unik pada kolom K. Pembantu: [nan  1.]\n",
      "Nilai unik pada kolom Alat Dapur: [ 1. nan]\n",
      "Nilai unik pada kolom Air Sumur Bor: [ 1. nan]\n",
      "Nilai unik pada kolom Balkon: [ 1. nan]\n",
      "Nilai unik pada kolom Water Heater: [ 1. nan]\n",
      "Nilai unik pada kolom Kitchen Set: [ 1. nan]\n"
     ]
    }
   ],
   "source": [
    "# List kolom dengan missing values\n",
    "cols_missing = ['Daya Listrik', 'Kolam Renang', 'Air PAM', 'One Gate', 'Pengamanan', 'AC', 'K. Pembantu', \n",
    "                'Alat Dapur', 'Air Sumur Bor', 'Balkon', 'Water Heater', 'Kitchen Set']\n",
    "\n",
    "# Cek nilai uniknya\n",
    "for i in cols_missing:\n",
    "    print(f'Nilai unik pada kolom {i}: {rumah[i].unique()}')"
   ]
  },
  {
   "cell_type": "code",
   "execution_count": 7,
   "metadata": {},
   "outputs": [
    {
     "data": {
      "text/plain": [
       "array(['1300 VA', '2200 VA', '22000 VA', '13000 VA', '900 VA', '3500 VA',\n",
       "       '3300 VA', '5500 VA', '4400 VA', '5200 VA', '7700 VA', '10000 VA',\n",
       "       '220 VA', '3600 VA', '2600 VA', '14000 VA', '35000 VA', '1200 VA',\n",
       "       '16500 VA', '16000 VA', '6600 VA', '5000 VA', '3000 VA', '4000 VA',\n",
       "       '440 VA', '11000 VA', '2300 VA', '10600 VA', '8700 VA', '9000 VA',\n",
       "       '1400 VA', '23000 VA', '1300000 VA', '2000 VA', '130 VA',\n",
       "       '1350 VA', '2500 VA', '990 VA', '1500 VA', '3800 VA', '130000 VA',\n",
       "       '1000 VA', '950 VA'], dtype=object)"
      ]
     },
     "execution_count": 7,
     "metadata": {},
     "output_type": "execute_result"
    }
   ],
   "source": [
    "# Ubah nilai None pada kolom Daya Listrik menjadi Lainnya\n",
    "rumah['Daya Listrik'] = rumah['Daya Listrik'].fillna(rumah['Daya Listrik'].mode()[0])\n",
    "rumah['Daya Listrik'].unique()"
   ]
  },
  {
   "cell_type": "code",
   "execution_count": 8,
   "metadata": {},
   "outputs": [
    {
     "data": {
      "text/plain": [
       "nama_rumah       0\n",
       "alamat           0\n",
       "harga            0\n",
       "deskripsi        0\n",
       "Tayang Sejak     0\n",
       "Luas Tanah       0\n",
       "Luas Bangunan    0\n",
       "Kamar Tidur      0\n",
       "Kamar Mandi      0\n",
       "Sertifikat       0\n",
       "Kondisi          0\n",
       "Kelengkapan      0\n",
       "Jumlah Lantai    0\n",
       "Menghadap        0\n",
       "Daya Listrik     0\n",
       "Parkir           0\n",
       "AC               0\n",
       "Kitchen Set      0\n",
       "Alat Dapur       0\n",
       "Water Heater     0\n",
       "Air Sumur Bor    0\n",
       "Balkon           0\n",
       "One Gate         0\n",
       "Pengamanan       0\n",
       "Air PAM          0\n",
       "Kolam Renang     0\n",
       "K. Pembantu      0\n",
       "Wilayah          0\n",
       "url              0\n",
       "dtype: int64"
      ]
     },
     "execution_count": 8,
     "metadata": {},
     "output_type": "execute_result"
    }
   ],
   "source": [
    "# Ubah nilai spesifikasi Nan menjadi 0\n",
    "spec_cols_missing = ['Kolam Renang', 'Air PAM', 'One Gate', 'Pengamanan', 'AC', 'K. Pembantu', \n",
    "                'Alat Dapur', 'Air Sumur Bor', 'Balkon', 'Water Heater', 'Kitchen Set']\n",
    "\n",
    "for index in spec_cols_missing:\n",
    "    rumah[index] = rumah[index].fillna(0)\n",
    "\n",
    "# Cek missing values lagi\n",
    "rumah.isnull().sum()"
   ]
  },
  {
   "cell_type": "code",
   "execution_count": 9,
   "metadata": {},
   "outputs": [
    {
     "name": "stdout",
     "output_type": "stream",
     "text": [
      "<class 'pandas.core.frame.DataFrame'>\n",
      "RangeIndex: 2310 entries, 0 to 2309\n",
      "Data columns (total 29 columns):\n",
      " #   Column         Non-Null Count  Dtype  \n",
      "---  ------         --------------  -----  \n",
      " 0   nama_rumah     2310 non-null   object \n",
      " 1   alamat         2310 non-null   object \n",
      " 2   harga          2310 non-null   object \n",
      " 3   deskripsi      2310 non-null   object \n",
      " 4   Tayang Sejak   2310 non-null   object \n",
      " 5   Luas Tanah     2310 non-null   object \n",
      " 6   Luas Bangunan  2310 non-null   object \n",
      " 7   Kamar Tidur    2310 non-null   int64  \n",
      " 8   Kamar Mandi    2310 non-null   int64  \n",
      " 9   Sertifikat     2310 non-null   object \n",
      " 10  Kondisi        2310 non-null   object \n",
      " 11  Kelengkapan    2310 non-null   object \n",
      " 12  Jumlah Lantai  2310 non-null   object \n",
      " 13  Menghadap      2310 non-null   object \n",
      " 14  Daya Listrik   2310 non-null   object \n",
      " 15  Parkir         2310 non-null   object \n",
      " 16  AC             2310 non-null   float64\n",
      " 17  Kitchen Set    2310 non-null   float64\n",
      " 18  Alat Dapur     2310 non-null   float64\n",
      " 19  Water Heater   2310 non-null   float64\n",
      " 20  Air Sumur Bor  2310 non-null   float64\n",
      " 21  Balkon         2310 non-null   float64\n",
      " 22  One Gate       2310 non-null   float64\n",
      " 23  Pengamanan     2310 non-null   float64\n",
      " 24  Air PAM        2310 non-null   float64\n",
      " 25  Kolam Renang   2310 non-null   float64\n",
      " 26  K. Pembantu    2310 non-null   float64\n",
      " 27  Wilayah        2310 non-null   object \n",
      " 28  url            2310 non-null   object \n",
      "dtypes: float64(11), int64(2), object(16)\n",
      "memory usage: 523.5+ KB\n"
     ]
    }
   ],
   "source": [
    "# Cek informasi dari data rumah yang siap pakai\n",
    "rumah.info()"
   ]
  },
  {
   "cell_type": "code",
   "execution_count": 10,
   "metadata": {},
   "outputs": [
    {
     "name": "stdout",
     "output_type": "stream",
     "text": [
      "Dataset rumah terdiri atas 29 kolom dan 2310 baris.\n"
     ]
    }
   ],
   "source": [
    "print(f\"Dataset rumah terdiri atas {rumah.shape[1]} kolom dan {rumah.shape[0]} baris.\")"
   ]
  },
  {
   "cell_type": "code",
   "execution_count": 11,
   "metadata": {},
   "outputs": [],
   "source": [
    "# Ubah kolom harga, Luas Tanah, Luas Bangunan kedalam tipe data numerik (integer)\n",
    "rumah['harga'] = pd.to_numeric(rumah['harga'].str.replace('.', ''))\n",
    "rumah['Luas Bangunan'] = pd.to_numeric(rumah['Luas Bangunan'].str.replace(' m2', ''))\n",
    "rumah['Luas Tanah'] = pd.to_numeric(rumah['Luas Tanah'].str.replace(' m2', ''))\n",
    "rumah['Parkir'] = rumah['Parkir'].str.replace('-', 'Lainnya')\n",
    "rumah['Menghadap'] = rumah['Menghadap'].str.replace('-', 'Lainnya')\n",
    "rumah['Daya Listrik'] = rumah['Daya Listrik'].str.replace([' VA'], '')"
   ]
  },
  {
   "cell_type": "markdown",
   "metadata": {},
   "source": [
    "---\n",
    "#### Exploratory Data Analysis\n",
    "Tahap ini dilakukan untuk mencari <i> insights </i> tersembunyi yang ada pada data rumah. <br> <br>\n",
    "Deskripsi Statistik Sederhana"
   ]
  },
  {
   "cell_type": "code",
   "execution_count": 12,
   "metadata": {},
   "outputs": [
    {
     "name": "stdout",
     "output_type": "stream",
     "text": [
      "<class 'pandas.core.frame.DataFrame'>\n",
      "RangeIndex: 2310 entries, 0 to 2309\n",
      "Data columns (total 29 columns):\n",
      " #   Column         Non-Null Count  Dtype  \n",
      "---  ------         --------------  -----  \n",
      " 0   nama_rumah     2310 non-null   object \n",
      " 1   alamat         2310 non-null   object \n",
      " 2   harga          2310 non-null   int64  \n",
      " 3   deskripsi      2310 non-null   object \n",
      " 4   Tayang Sejak   2310 non-null   object \n",
      " 5   Luas Tanah     2310 non-null   int64  \n",
      " 6   Luas Bangunan  2310 non-null   int64  \n",
      " 7   Kamar Tidur    2310 non-null   int64  \n",
      " 8   Kamar Mandi    2310 non-null   int64  \n",
      " 9   Sertifikat     2310 non-null   object \n",
      " 10  Kondisi        2310 non-null   object \n",
      " 11  Kelengkapan    2310 non-null   object \n",
      " 12  Jumlah Lantai  2310 non-null   object \n",
      " 13  Menghadap      2310 non-null   object \n",
      " 14  Daya Listrik   0 non-null      float64\n",
      " 15  Parkir         2310 non-null   object \n",
      " 16  AC             2310 non-null   float64\n",
      " 17  Kitchen Set    2310 non-null   float64\n",
      " 18  Alat Dapur     2310 non-null   float64\n",
      " 19  Water Heater   2310 non-null   float64\n",
      " 20  Air Sumur Bor  2310 non-null   float64\n",
      " 21  Balkon         2310 non-null   float64\n",
      " 22  One Gate       2310 non-null   float64\n",
      " 23  Pengamanan     2310 non-null   float64\n",
      " 24  Air PAM        2310 non-null   float64\n",
      " 25  Kolam Renang   2310 non-null   float64\n",
      " 26  K. Pembantu    2310 non-null   float64\n",
      " 27  Wilayah        2310 non-null   object \n",
      " 28  url            2310 non-null   object \n",
      "dtypes: float64(12), int64(5), object(12)\n",
      "memory usage: 523.5+ KB\n"
     ]
    }
   ],
   "source": [
    "rumah.info()"
   ]
  },
  {
   "cell_type": "code",
   "execution_count": 13,
   "metadata": {},
   "outputs": [],
   "source": [
    "rumah = rumah[(rumah['Luas Tanah'] > 10) & (rumah['Luas Tanah'] <= 200) & (rumah['Luas Bangunan'] > 10) &(rumah['Luas Bangunan'] <= 200)]"
   ]
  },
  {
   "cell_type": "code",
   "execution_count": 14,
   "metadata": {},
   "outputs": [
    {
     "data": {
      "text/html": [
       "<div>\n",
       "<style scoped>\n",
       "    .dataframe tbody tr th:only-of-type {\n",
       "        vertical-align: middle;\n",
       "    }\n",
       "\n",
       "    .dataframe tbody tr th {\n",
       "        vertical-align: top;\n",
       "    }\n",
       "\n",
       "    .dataframe thead th {\n",
       "        text-align: right;\n",
       "    }\n",
       "</style>\n",
       "<table border=\"1\" class=\"dataframe\">\n",
       "  <thead>\n",
       "    <tr style=\"text-align: right;\">\n",
       "      <th></th>\n",
       "      <th>harga</th>\n",
       "      <th>Luas Tanah</th>\n",
       "      <th>Luas Bangunan</th>\n",
       "      <th>Kamar Tidur</th>\n",
       "      <th>Kamar Mandi</th>\n",
       "      <th>Daya Listrik</th>\n",
       "      <th>AC</th>\n",
       "      <th>Kitchen Set</th>\n",
       "      <th>Alat Dapur</th>\n",
       "      <th>Water Heater</th>\n",
       "      <th>Air Sumur Bor</th>\n",
       "      <th>Balkon</th>\n",
       "      <th>One Gate</th>\n",
       "      <th>Pengamanan</th>\n",
       "      <th>Air PAM</th>\n",
       "      <th>Kolam Renang</th>\n",
       "      <th>K. Pembantu</th>\n",
       "    </tr>\n",
       "  </thead>\n",
       "  <tbody>\n",
       "    <tr>\n",
       "      <th>count</th>\n",
       "      <td>2.084000e+03</td>\n",
       "      <td>2084.000000</td>\n",
       "      <td>2084.000000</td>\n",
       "      <td>2084.000000</td>\n",
       "      <td>2084.000000</td>\n",
       "      <td>0.0</td>\n",
       "      <td>2084.000000</td>\n",
       "      <td>2084.000000</td>\n",
       "      <td>2084.000000</td>\n",
       "      <td>2084.000000</td>\n",
       "      <td>2084.000000</td>\n",
       "      <td>2084.000000</td>\n",
       "      <td>2084.000000</td>\n",
       "      <td>2084.000000</td>\n",
       "      <td>2084.000000</td>\n",
       "      <td>2084.000000</td>\n",
       "      <td>2084.000000</td>\n",
       "    </tr>\n",
       "    <tr>\n",
       "      <th>mean</th>\n",
       "      <td>1.164237e+09</td>\n",
       "      <td>77.526392</td>\n",
       "      <td>61.116603</td>\n",
       "      <td>2.447217</td>\n",
       "      <td>1.522553</td>\n",
       "      <td>NaN</td>\n",
       "      <td>0.226488</td>\n",
       "      <td>0.163148</td>\n",
       "      <td>0.062860</td>\n",
       "      <td>0.069098</td>\n",
       "      <td>0.307102</td>\n",
       "      <td>0.165547</td>\n",
       "      <td>0.553743</td>\n",
       "      <td>0.624280</td>\n",
       "      <td>0.312380</td>\n",
       "      <td>0.203935</td>\n",
       "      <td>0.086372</td>\n",
       "    </tr>\n",
       "    <tr>\n",
       "      <th>std</th>\n",
       "      <td>2.190245e+10</td>\n",
       "      <td>30.432548</td>\n",
       "      <td>37.047223</td>\n",
       "      <td>1.152591</td>\n",
       "      <td>0.917096</td>\n",
       "      <td>NaN</td>\n",
       "      <td>0.418659</td>\n",
       "      <td>0.369589</td>\n",
       "      <td>0.242769</td>\n",
       "      <td>0.253681</td>\n",
       "      <td>0.461403</td>\n",
       "      <td>0.371763</td>\n",
       "      <td>0.497223</td>\n",
       "      <td>0.484424</td>\n",
       "      <td>0.463575</td>\n",
       "      <td>0.403018</td>\n",
       "      <td>0.280981</td>\n",
       "    </tr>\n",
       "    <tr>\n",
       "      <th>min</th>\n",
       "      <td>3.500000e+07</td>\n",
       "      <td>18.000000</td>\n",
       "      <td>14.000000</td>\n",
       "      <td>0.000000</td>\n",
       "      <td>0.000000</td>\n",
       "      <td>NaN</td>\n",
       "      <td>0.000000</td>\n",
       "      <td>0.000000</td>\n",
       "      <td>0.000000</td>\n",
       "      <td>0.000000</td>\n",
       "      <td>0.000000</td>\n",
       "      <td>0.000000</td>\n",
       "      <td>0.000000</td>\n",
       "      <td>0.000000</td>\n",
       "      <td>0.000000</td>\n",
       "      <td>0.000000</td>\n",
       "      <td>0.000000</td>\n",
       "    </tr>\n",
       "    <tr>\n",
       "      <th>25%</th>\n",
       "      <td>2.642500e+08</td>\n",
       "      <td>60.000000</td>\n",
       "      <td>33.000000</td>\n",
       "      <td>2.000000</td>\n",
       "      <td>1.000000</td>\n",
       "      <td>NaN</td>\n",
       "      <td>0.000000</td>\n",
       "      <td>0.000000</td>\n",
       "      <td>0.000000</td>\n",
       "      <td>0.000000</td>\n",
       "      <td>0.000000</td>\n",
       "      <td>0.000000</td>\n",
       "      <td>0.000000</td>\n",
       "      <td>0.000000</td>\n",
       "      <td>0.000000</td>\n",
       "      <td>0.000000</td>\n",
       "      <td>0.000000</td>\n",
       "    </tr>\n",
       "    <tr>\n",
       "      <th>50%</th>\n",
       "      <td>4.769700e+08</td>\n",
       "      <td>66.000000</td>\n",
       "      <td>50.000000</td>\n",
       "      <td>2.000000</td>\n",
       "      <td>1.000000</td>\n",
       "      <td>NaN</td>\n",
       "      <td>0.000000</td>\n",
       "      <td>0.000000</td>\n",
       "      <td>0.000000</td>\n",
       "      <td>0.000000</td>\n",
       "      <td>0.000000</td>\n",
       "      <td>0.000000</td>\n",
       "      <td>1.000000</td>\n",
       "      <td>1.000000</td>\n",
       "      <td>0.000000</td>\n",
       "      <td>0.000000</td>\n",
       "      <td>0.000000</td>\n",
       "    </tr>\n",
       "    <tr>\n",
       "      <th>75%</th>\n",
       "      <td>8.000000e+08</td>\n",
       "      <td>88.000000</td>\n",
       "      <td>78.000000</td>\n",
       "      <td>3.000000</td>\n",
       "      <td>2.000000</td>\n",
       "      <td>NaN</td>\n",
       "      <td>0.000000</td>\n",
       "      <td>0.000000</td>\n",
       "      <td>0.000000</td>\n",
       "      <td>0.000000</td>\n",
       "      <td>1.000000</td>\n",
       "      <td>0.000000</td>\n",
       "      <td>1.000000</td>\n",
       "      <td>1.000000</td>\n",
       "      <td>1.000000</td>\n",
       "      <td>0.000000</td>\n",
       "      <td>0.000000</td>\n",
       "    </tr>\n",
       "    <tr>\n",
       "      <th>max</th>\n",
       "      <td>1.000000e+12</td>\n",
       "      <td>200.000000</td>\n",
       "      <td>200.000000</td>\n",
       "      <td>31.000000</td>\n",
       "      <td>15.000000</td>\n",
       "      <td>NaN</td>\n",
       "      <td>1.000000</td>\n",
       "      <td>1.000000</td>\n",
       "      <td>1.000000</td>\n",
       "      <td>1.000000</td>\n",
       "      <td>1.000000</td>\n",
       "      <td>1.000000</td>\n",
       "      <td>1.000000</td>\n",
       "      <td>1.000000</td>\n",
       "      <td>1.000000</td>\n",
       "      <td>1.000000</td>\n",
       "      <td>1.000000</td>\n",
       "    </tr>\n",
       "  </tbody>\n",
       "</table>\n",
       "</div>"
      ],
      "text/plain": [
       "              harga   Luas Tanah  Luas Bangunan  Kamar Tidur  Kamar Mandi  \\\n",
       "count  2.084000e+03  2084.000000    2084.000000  2084.000000  2084.000000   \n",
       "mean   1.164237e+09    77.526392      61.116603     2.447217     1.522553   \n",
       "std    2.190245e+10    30.432548      37.047223     1.152591     0.917096   \n",
       "min    3.500000e+07    18.000000      14.000000     0.000000     0.000000   \n",
       "25%    2.642500e+08    60.000000      33.000000     2.000000     1.000000   \n",
       "50%    4.769700e+08    66.000000      50.000000     2.000000     1.000000   \n",
       "75%    8.000000e+08    88.000000      78.000000     3.000000     2.000000   \n",
       "max    1.000000e+12   200.000000     200.000000    31.000000    15.000000   \n",
       "\n",
       "       Daya Listrik           AC  Kitchen Set   Alat Dapur  Water Heater  \\\n",
       "count           0.0  2084.000000  2084.000000  2084.000000   2084.000000   \n",
       "mean            NaN     0.226488     0.163148     0.062860      0.069098   \n",
       "std             NaN     0.418659     0.369589     0.242769      0.253681   \n",
       "min             NaN     0.000000     0.000000     0.000000      0.000000   \n",
       "25%             NaN     0.000000     0.000000     0.000000      0.000000   \n",
       "50%             NaN     0.000000     0.000000     0.000000      0.000000   \n",
       "75%             NaN     0.000000     0.000000     0.000000      0.000000   \n",
       "max             NaN     1.000000     1.000000     1.000000      1.000000   \n",
       "\n",
       "       Air Sumur Bor       Balkon     One Gate   Pengamanan      Air PAM  \\\n",
       "count    2084.000000  2084.000000  2084.000000  2084.000000  2084.000000   \n",
       "mean        0.307102     0.165547     0.553743     0.624280     0.312380   \n",
       "std         0.461403     0.371763     0.497223     0.484424     0.463575   \n",
       "min         0.000000     0.000000     0.000000     0.000000     0.000000   \n",
       "25%         0.000000     0.000000     0.000000     0.000000     0.000000   \n",
       "50%         0.000000     0.000000     1.000000     1.000000     0.000000   \n",
       "75%         1.000000     0.000000     1.000000     1.000000     1.000000   \n",
       "max         1.000000     1.000000     1.000000     1.000000     1.000000   \n",
       "\n",
       "       Kolam Renang  K. Pembantu  \n",
       "count   2084.000000  2084.000000  \n",
       "mean       0.203935     0.086372  \n",
       "std        0.403018     0.280981  \n",
       "min        0.000000     0.000000  \n",
       "25%        0.000000     0.000000  \n",
       "50%        0.000000     0.000000  \n",
       "75%        0.000000     0.000000  \n",
       "max        1.000000     1.000000  "
      ]
     },
     "execution_count": 14,
     "metadata": {},
     "output_type": "execute_result"
    }
   ],
   "source": [
    "# Pilih kolom dengan tipe data numerik\n",
    "numeric_columns = rumah.select_dtypes(include=['number'])\n",
    "numeric_columns.describe()"
   ]
  },
  {
   "cell_type": "markdown",
   "metadata": {},
   "source": [
    "Handling Outliers"
   ]
  },
  {
   "cell_type": "code",
   "execution_count": 15,
   "metadata": {},
   "outputs": [
    {
     "data": {
      "text/plain": [
       "Text(0.5, 1.0, 'Outliers pada kolom Harga')"
      ]
     },
     "execution_count": 15,
     "metadata": {},
     "output_type": "execute_result"
    },
    {
     "data": {
      "image/png": "[encoded data removed]",
      "text/plain": [
       "<Figure size 640x480 with 1 Axes>"
      ]
     },
     "metadata": {},
     "output_type": "display_data"
    }
   ],
   "source": [
    "# Cek outliers pada kolom harga\n",
    "sns.boxplot(y='harga', data=rumah)\n",
    "plt.title(\"Outliers pada kolom Harga\")"
   ]
  },
  {
   "cell_type": "code",
   "execution_count": 16,
   "metadata": {},
   "outputs": [],
   "source": [
    "# Assuming 'rumah' is your DataFrame with a 'harga' column\n",
    "\n",
    "# Set the number of times to run the outlier removal process\n",
    "num_iterations = 5\n",
    "\n",
    "# Set the threshold to identify outliers\n",
    "threshold = 2.0\n",
    "\n",
    "for _ in range(num_iterations):\n",
    "    # Calculate z-scores\n",
    "    z_scores = stats.zscore(rumah['harga'])\n",
    "\n",
    "    outlier_indices = []\n",
    "    for i, z in enumerate(z_scores):\n",
    "        if z > threshold:\n",
    "            outlier_indices.append(i)\n",
    "\n",
    "    # Remove outliers from the DataFrame\n",
    "    rumah = rumah.drop(outlier_indices)\n",
    "\n",
    "    # Reset the DataFrame index\n",
    "    rumah.reset_index(drop=True, inplace=True)\n",
    "\n",
    "# The 'rumah' DataFrame now has outliers removed 4 times\n"
   ]
  },
  {
   "cell_type": "code",
   "execution_count": 17,
   "metadata": {},
   "outputs": [
    {
     "data": {
      "text/plain": [
       "Text(0.5, 1.0, 'Outliers pada kolom Harga')"
      ]
     },
     "execution_count": 17,
     "metadata": {},
     "output_type": "execute_result"
    },
    {
     "data": {
      "image/png": "[encoded data removed]",
      "text/plain": [
       "<Figure size 640x480 with 1 Axes>"
      ]
     },
     "metadata": {},
     "output_type": "display_data"
    }
   ],
   "source": [
    "# Cek outliers pada kolom harga\n",
    "#numeric_columns = rumah.select_dtypes(include=['number'])\n",
    "sns.boxplot(y='harga', data=rumah)\n",
    "plt.title(\"Outliers pada kolom Harga\")"
   ]
  },
  {
   "cell_type": "code",
   "execution_count": 18,
   "metadata": {},
   "outputs": [
    {
     "name": "stdout",
     "output_type": "stream",
     "text": [
      "Setelah handling outliers, dataset rumah terdiri atas 29 kolom dan 1762 baris.\n"
     ]
    }
   ],
   "source": [
    "print(f\"Setelah handling outliers, dataset rumah terdiri atas {rumah.shape[1]} kolom dan {rumah.shape[0]} baris.\")"
   ]
  },
  {
   "cell_type": "markdown",
   "metadata": {},
   "source": [
    "Persebaran Harga Rumah"
   ]
  },
  {
   "cell_type": "code",
   "execution_count": 19,
   "metadata": {},
   "outputs": [
    {
     "data": {
      "text/plain": [
       "Text(0.5, 1.0, 'Distribusi Harga Rumah di Kabupaten Tangerang')"
      ]
     },
     "execution_count": 19,
     "metadata": {},
     "output_type": "execute_result"
    },
    {
     "data": {
      "image/png": "[encoded data removed]",
      "text/plain": [
       "<Figure size 640x480 with 1 Axes>"
      ]
     },
     "metadata": {},
     "output_type": "display_data"
    }
   ],
   "source": [
    "sns.histplot(x='harga', data=rumah, kde=True, bins=10)\n",
    "plt.title(\"Distribusi Harga Rumah di Kabupaten Tangerang\")"
   ]
  },
  {
   "cell_type": "code",
   "execution_count": 20,
   "metadata": {},
   "outputs": [
    {
     "name": "stdout",
     "output_type": "stream",
     "text": [
      "Skewness dari data harga: 0.5819127678412759\n"
     ]
    }
   ],
   "source": [
    "print(f'Skewness dari data harga: {stats.skew(rumah.harga)}')"
   ]
  },
  {
   "cell_type": "markdown",
   "metadata": {},
   "source": [
    "Skewness dari variabel Harga bernilai positif, artinya persebaran data harga rumah bukan merupakan distribusi normal. <br> <br>"
   ]
  },
  {
   "cell_type": "markdown",
   "metadata": {},
   "source": [
    "Binning"
   ]
  },
  {
   "cell_type": "code",
   "execution_count": 21,
   "metadata": {},
   "outputs": [],
   "source": [
    "# Define custom bin edges based on max, min, and median\n",
    "bin_edges = [18, 80, 150, 200]  # You can adjust these bin edges based on your criteria\n",
    "bin_labels = ['Kecil', 'Sedang', 'Besar']\n",
    "\n",
    "# Use cut to assign data points to bins\n",
    "bins = pd.cut(rumah['Luas Tanah'], bins=bin_edges, labels=bin_labels)\n",
    "\n",
    "\n",
    "# Print the resulting DataFrame\n",
    "rumah['Kategori Luas Tanah'] = bins"
   ]
  },
  {
   "cell_type": "code",
   "execution_count": 22,
   "metadata": {},
   "outputs": [],
   "source": [
    "# Define custom bin edges based on max, min, and median\n",
    "bin_edges = [20, 80, 130, 200]  # You can adjust these bin edges based on your criteria\n",
    "bin_labels = ['Kecil', 'Sedang', 'Besar']\n",
    "\n",
    "# Use cut to assign data points to bins\n",
    "bins = pd.cut(rumah['Luas Bangunan'], bins=bin_edges, labels=bin_labels)\n",
    "\n",
    "\n",
    "# Print the resulting DataFrame\n",
    "rumah['Kategori Luas Bangunan'] = bins"
   ]
  },
  {
   "cell_type": "code",
   "execution_count": 23,
   "metadata": {},
   "outputs": [
    {
     "data": {
      "text/plain": [
       "<Axes: xlabel='Kategori Luas Tanah', ylabel='count'>"
      ]
     },
     "execution_count": 23,
     "metadata": {},
     "output_type": "execute_result"
    },
    {
     "data": {
      "image/png": "[encoded data removed]",
      "text/plain": [
       "<Figure size 640x480 with 1 Axes>"
      ]
     },
     "metadata": {},
     "output_type": "display_data"
    }
   ],
   "source": [
    "sns.countplot(x='Kategori Luas Tanah', data=rumah)"
   ]
  },
  {
   "cell_type": "code",
   "execution_count": 24,
   "metadata": {},
   "outputs": [
    {
     "data": {
      "text/plain": [
       "<Axes: xlabel='Kategori Luas Bangunan', ylabel='count'>"
      ]
     },
     "execution_count": 24,
     "metadata": {},
     "output_type": "execute_result"
    },
    {
     "data": {
      "image/png": "[encoded data removed]",
      "text/plain": [
       "<Figure size 640x480 with 1 Axes>"
      ]
     },
     "metadata": {},
     "output_type": "display_data"
    }
   ],
   "source": [
    "sns.countplot(x='Kategori Luas Bangunan', data=rumah)"
   ]
  },
  {
   "cell_type": "markdown",
   "metadata": {},
   "source": [
    "Visualisasi Persebaran Spesifikasi Rumah"
   ]
  },
  {
   "cell_type": "code",
   "execution_count": 25,
   "metadata": {},
   "outputs": [
    {
     "data": {
      "text/plain": [
       "Index(['Kamar Tidur', 'Kamar Mandi', 'Sertifikat', 'Kondisi', 'Kelengkapan',\n",
       "       'Jumlah Lantai', 'Menghadap', 'Daya Listrik', 'Parkir', 'AC',\n",
       "       'Kitchen Set', 'Alat Dapur', 'Water Heater', 'Air Sumur Bor', 'Balkon',\n",
       "       'One Gate', 'Pengamanan', 'Air PAM', 'Kolam Renang', 'K. Pembantu'],\n",
       "      dtype='object')"
      ]
     },
     "execution_count": 25,
     "metadata": {},
     "output_type": "execute_result"
    }
   ],
   "source": [
    "# Tampung spesifikasi rumah kedalam variabel spec_cols\n",
    "spec = rumah.iloc[:, 7:27]\n",
    "spec_cols = spec.columns\n",
    "spec_cols"
   ]
  },
  {
   "cell_type": "code",
   "execution_count": 26,
   "metadata": {},
   "outputs": [
    {
     "data": {
      "image/png": "[encoded data removed]",
      "text/plain": [
       "<Figure size 640x480 with 1 Axes>"
      ]
     },
     "metadata": {},
     "output_type": "display_data"
    },
    {
     "data": {
      "image/png": "[encoded data removed]",
      "text/plain": [
       "<Figure size 640x480 with 1 Axes>"
      ]
     },
     "metadata": {},
     "output_type": "display_data"
    },
    {
     "data": {
      "image/png": "[encoded data removed]",
      "text/plain": [
       "<Figure size 640x480 with 1 Axes>"
      ]
     },
     "metadata": {},
     "output_type": "display_data"
    },
    {
     "data": {
      "image/png": "[encoded data removed]",
      "text/plain": [
       "<Figure size 640x480 with 1 Axes>"
      ]
     },
     "metadata": {},
     "output_type": "display_data"
    },
    {
     "data": {
      "image/png": "[encoded data removed]",
      "text/plain": [
       "<Figure size 640x480 with 1 Axes>"
      ]
     },
     "metadata": {},
     "output_type": "display_data"
    },
    {
     "data": {
      "image/png": "[encoded data removed]",
      "text/plain": [
       "<Figure size 640x480 with 1 Axes>"
      ]
     },
     "metadata": {},
     "output_type": "display_data"
    },
    {
     "data": {
      "image/png": "[encoded data removed]",
      "text/plain": [
       "<Figure size 640x480 with 1 Axes>"
      ]
     },
     "metadata": {},
     "output_type": "display_data"
    },
    {
     "ename": "ValueError",
     "evalue": "min() arg is an empty sequence",
     "output_type": "error",
     "traceback": [
      "\u001b[1;31m---------------------------------------------------------------------------\u001b[0m",
      "\u001b[1;31mValueError\u001b[0m                                Traceback (most recent call last)",
      "\u001b[1;32me:\\OneDrive\\Tugas\\Kuliah\\Semester 5\\Information Systems Research Methodology\\Koding Laptop\\house-price-prediction\\house_price_prediction.ipynb Cell 36\u001b[0m line \u001b[0;36m2\n\u001b[0;32m      <a href='vscode-notebook-cell:/e%3A/OneDrive/Tugas/Kuliah/Semester%205/Information%20Systems%20Research%20Methodology/Koding%20Laptop/house-price-prediction/house_price_prediction.ipynb#X43sZmlsZQ%3D%3D?line=0'>1</a>\u001b[0m \u001b[39mfor\u001b[39;00m i \u001b[39min\u001b[39;00m spec_cols:\n\u001b[1;32m----> <a href='vscode-notebook-cell:/e%3A/OneDrive/Tugas/Kuliah/Semester%205/Information%20Systems%20Research%20Methodology/Koding%20Laptop/house-price-prediction/house_price_prediction.ipynb#X43sZmlsZQ%3D%3D?line=1'>2</a>\u001b[0m     sns\u001b[39m.\u001b[39mcountplot(x\u001b[39m=\u001b[39mi, data\u001b[39m=\u001b[39mrumah)\n\u001b[0;32m      <a href='vscode-notebook-cell:/e%3A/OneDrive/Tugas/Kuliah/Semester%205/Information%20Systems%20Research%20Methodology/Koding%20Laptop/house-price-prediction/house_price_prediction.ipynb#X43sZmlsZQ%3D%3D?line=2'>3</a>\u001b[0m     plt\u001b[39m.\u001b[39mtitle(\u001b[39mf\u001b[39m\u001b[39m'\u001b[39m\u001b[39mSebaran Rumah yang Memiliki \u001b[39m\u001b[39m{\u001b[39;00mi\u001b[39m}\u001b[39;00m\u001b[39m-n\u001b[39m\u001b[39m'\u001b[39m)\n\u001b[0;32m      <a href='vscode-notebook-cell:/e%3A/OneDrive/Tugas/Kuliah/Semester%205/Information%20Systems%20Research%20Methodology/Koding%20Laptop/house-price-prediction/house_price_prediction.ipynb#X43sZmlsZQ%3D%3D?line=3'>4</a>\u001b[0m     plt\u001b[39m.\u001b[39mxticks(rotation\u001b[39m=\u001b[39m\u001b[39m45\u001b[39m)\n",
      "File \u001b[1;32me:\\Program\\Coding\\Anaconda\\envs\\sem5\\Lib\\site-packages\\seaborn\\categorical.py:2943\u001b[0m, in \u001b[0;36mcountplot\u001b[1;34m(data, x, y, hue, order, hue_order, orient, color, palette, saturation, width, dodge, ax, **kwargs)\u001b[0m\n\u001b[0;32m   2940\u001b[0m \u001b[39melif\u001b[39;00m x \u001b[39mis\u001b[39;00m \u001b[39mnot\u001b[39;00m \u001b[39mNone\u001b[39;00m \u001b[39mand\u001b[39;00m y \u001b[39mis\u001b[39;00m \u001b[39mnot\u001b[39;00m \u001b[39mNone\u001b[39;00m:\n\u001b[0;32m   2941\u001b[0m     \u001b[39mraise\u001b[39;00m \u001b[39mValueError\u001b[39;00m(\u001b[39m\"\u001b[39m\u001b[39mCannot pass values for both `x` and `y`\u001b[39m\u001b[39m\"\u001b[39m)\n\u001b[1;32m-> 2943\u001b[0m plotter \u001b[39m=\u001b[39m _CountPlotter(\n\u001b[0;32m   2944\u001b[0m     x, y, hue, data, order, hue_order,\n\u001b[0;32m   2945\u001b[0m     estimator, errorbar, n_boot, units, seed,\n\u001b[0;32m   2946\u001b[0m     orient, color, palette, saturation,\n\u001b[0;32m   2947\u001b[0m     width, errcolor, errwidth, capsize, dodge\n\u001b[0;32m   2948\u001b[0m )\n\u001b[0;32m   2950\u001b[0m plotter\u001b[39m.\u001b[39mvalue_label \u001b[39m=\u001b[39m \u001b[39m\"\u001b[39m\u001b[39mcount\u001b[39m\u001b[39m\"\u001b[39m\n\u001b[0;32m   2952\u001b[0m \u001b[39mif\u001b[39;00m ax \u001b[39mis\u001b[39;00m \u001b[39mNone\u001b[39;00m:\n",
      "File \u001b[1;32me:\\Program\\Coding\\Anaconda\\envs\\sem5\\Lib\\site-packages\\seaborn\\categorical.py:1532\u001b[0m, in \u001b[0;36m_BarPlotter.__init__\u001b[1;34m(self, x, y, hue, data, order, hue_order, estimator, errorbar, n_boot, units, seed, orient, color, palette, saturation, width, errcolor, errwidth, capsize, dodge)\u001b[0m\n\u001b[0;32m   1529\u001b[0m \u001b[39m\u001b[39m\u001b[39m\"\"\"Initialize the plotter.\"\"\"\u001b[39;00m\n\u001b[0;32m   1530\u001b[0m \u001b[39mself\u001b[39m\u001b[39m.\u001b[39mestablish_variables(x, y, hue, data, orient,\n\u001b[0;32m   1531\u001b[0m                          order, hue_order, units)\n\u001b[1;32m-> 1532\u001b[0m \u001b[39mself\u001b[39m\u001b[39m.\u001b[39mestablish_colors(color, palette, saturation)\n\u001b[0;32m   1533\u001b[0m \u001b[39mself\u001b[39m\u001b[39m.\u001b[39mestimate_statistic(estimator, errorbar, n_boot, seed)\n\u001b[0;32m   1535\u001b[0m \u001b[39mself\u001b[39m\u001b[39m.\u001b[39mdodge \u001b[39m=\u001b[39m dodge\n",
      "File \u001b[1;32me:\\Program\\Coding\\Anaconda\\envs\\sem5\\Lib\\site-packages\\seaborn\\categorical.py:707\u001b[0m, in \u001b[0;36m_CategoricalPlotter.establish_colors\u001b[1;34m(self, color, palette, saturation)\u001b[0m\n\u001b[0;32m    705\u001b[0m \u001b[39m# Determine the gray color to use for the lines framing the plot\u001b[39;00m\n\u001b[0;32m    706\u001b[0m light_vals \u001b[39m=\u001b[39m [rgb_to_hls(\u001b[39m*\u001b[39mc)[\u001b[39m1\u001b[39m] \u001b[39mfor\u001b[39;00m c \u001b[39min\u001b[39;00m rgb_colors]\n\u001b[1;32m--> 707\u001b[0m lum \u001b[39m=\u001b[39m \u001b[39mmin\u001b[39m(light_vals) \u001b[39m*\u001b[39m \u001b[39m.6\u001b[39m\n\u001b[0;32m    708\u001b[0m gray \u001b[39m=\u001b[39m mpl\u001b[39m.\u001b[39mcolors\u001b[39m.\u001b[39mrgb2hex((lum, lum, lum))\n\u001b[0;32m    710\u001b[0m \u001b[39m# Assign object attributes\u001b[39;00m\n",
      "\u001b[1;31mValueError\u001b[0m: min() arg is an empty sequence"
     ]
    }
   ],
   "source": [
    "for i in spec_cols:\n",
    "    sns.countplot(x=i, data=rumah)\n",
    "    plt.title(f'Sebaran Rumah yang Memiliki {i}-n')\n",
    "    plt.xticks(rotation=45)\n",
    "    plt.show()"
   ]
  },
  {
   "cell_type": "markdown",
   "metadata": {},
   "source": [
    "Mencari berapa lama rumah sudah di iklankan di situs realoka.com (dalam tahun)"
   ]
  },
  {
   "cell_type": "code",
   "execution_count": null,
   "metadata": {},
   "outputs": [],
   "source": [
    "# Konvert isi kolom Tayang Sejak kedalam kolom Tahun_Listing\n",
    "# Definisikan dict time_unit untuk menyimpan data waktu\n",
    "from datetime import datetime, timedelta\n",
    "\n",
    "time_units = {\n",
    "    'tahun': timedelta(days=365),  # Assuming a year is 365 days\n",
    "    'bulan': timedelta(days=30),   # Assuming a month is 30 days\n",
    "    'minggu': timedelta(weeks=1),\n",
    "    'hari': timedelta(days=1),\n",
    "    'jam': timedelta(hours=1),\n",
    "    'menit': timedelta(minutes=1)\n",
    "}"
   ]
  },
  {
   "cell_type": "code",
   "execution_count": null,
   "metadata": {},
   "outputs": [
    {
     "data": {
      "text/html": [
       "<div>\n",
       "<style scoped>\n",
       "    .dataframe tbody tr th:only-of-type {\n",
       "        vertical-align: middle;\n",
       "    }\n",
       "\n",
       "    .dataframe tbody tr th {\n",
       "        vertical-align: top;\n",
       "    }\n",
       "\n",
       "    .dataframe thead th {\n",
       "        text-align: right;\n",
       "    }\n",
       "</style>\n",
       "<table border=\"1\" class=\"dataframe\">\n",
       "  <thead>\n",
       "    <tr style=\"text-align: right;\">\n",
       "      <th></th>\n",
       "      <th>nama_rumah</th>\n",
       "      <th>alamat</th>\n",
       "      <th>harga</th>\n",
       "      <th>deskripsi</th>\n",
       "      <th>Tayang Sejak</th>\n",
       "      <th>Luas Tanah</th>\n",
       "      <th>Luas Bangunan</th>\n",
       "      <th>Kamar Tidur</th>\n",
       "      <th>Kamar Mandi</th>\n",
       "      <th>Sertifikat</th>\n",
       "      <th>...</th>\n",
       "      <th>Air Sumur Bor</th>\n",
       "      <th>Balkon</th>\n",
       "      <th>One Gate</th>\n",
       "      <th>Pengamanan</th>\n",
       "      <th>Air PAM</th>\n",
       "      <th>Kolam Renang</th>\n",
       "      <th>K. Pembantu</th>\n",
       "      <th>Wilayah</th>\n",
       "      <th>url</th>\n",
       "      <th>Tahun_Listing</th>\n",
       "    </tr>\n",
       "  </thead>\n",
       "  <tbody>\n",
       "    <tr>\n",
       "      <th>0</th>\n",
       "      <td>Rumahku Matagara Tangerang dekat Pusat Pemerin...</td>\n",
       "      <td>Jalan Raya Puspem Tigaraksa, Tangerang Kab</td>\n",
       "      <td>320400000</td>\n",
       "      <td>Deskripsi dan SpesifikasiCLUSTER RUMAHKU MATAG...</td>\n",
       "      <td>9 jam yang lalu</td>\n",
       "      <td>30</td>\n",
       "      <td>60</td>\n",
       "      <td>2</td>\n",
       "      <td>1</td>\n",
       "      <td>HGB - Hak Guna Bangunan</td>\n",
       "      <td>...</td>\n",
       "      <td>1.0</td>\n",
       "      <td>1.0</td>\n",
       "      <td>1.0</td>\n",
       "      <td>1.0</td>\n",
       "      <td>0.0</td>\n",
       "      <td>0.0</td>\n",
       "      <td>0.0</td>\n",
       "      <td>Kabupaten Tangerang</td>\n",
       "      <td>https://www.realoka.com/417850-rumahku-matagar...</td>\n",
       "      <td>2023</td>\n",
       "    </tr>\n",
       "    <tr>\n",
       "      <th>1</th>\n",
       "      <td>Cluster Terbaru Puri, Cluster Maleo, Banyak Pr...</td>\n",
       "      <td>Puri Jaya Pasar Kemis, Tangerang Kab</td>\n",
       "      <td>500000000</td>\n",
       "      <td>Deskripsi dan SpesifikasiPuri Jaya Pasar Kemis...</td>\n",
       "      <td>15 jam yang lalu</td>\n",
       "      <td>60</td>\n",
       "      <td>46</td>\n",
       "      <td>2</td>\n",
       "      <td>2</td>\n",
       "      <td>SHM - Sertifikat Hak Milik</td>\n",
       "      <td>...</td>\n",
       "      <td>0.0</td>\n",
       "      <td>1.0</td>\n",
       "      <td>1.0</td>\n",
       "      <td>1.0</td>\n",
       "      <td>1.0</td>\n",
       "      <td>0.0</td>\n",
       "      <td>0.0</td>\n",
       "      <td>Kabupaten Tangerang</td>\n",
       "      <td>https://www.realoka.com/412981-cluster-terbaru...</td>\n",
       "      <td>2023</td>\n",
       "    </tr>\n",
       "    <tr>\n",
       "      <th>2</th>\n",
       "      <td>Cluster Maleo Puri Jaya Pasar Kemis, DP Bisa 0</td>\n",
       "      <td>Puri Jaya Pasar Kemis, Tangerang Kab</td>\n",
       "      <td>500000000</td>\n",
       "      <td>Deskripsi dan SpesifikasiHunian cluster Maleo ...</td>\n",
       "      <td>16 jam yang lalu</td>\n",
       "      <td>60</td>\n",
       "      <td>46</td>\n",
       "      <td>2</td>\n",
       "      <td>2</td>\n",
       "      <td>SHM - Sertifikat Hak Milik</td>\n",
       "      <td>...</td>\n",
       "      <td>0.0</td>\n",
       "      <td>1.0</td>\n",
       "      <td>1.0</td>\n",
       "      <td>1.0</td>\n",
       "      <td>1.0</td>\n",
       "      <td>1.0</td>\n",
       "      <td>0.0</td>\n",
       "      <td>Kabupaten Tangerang</td>\n",
       "      <td>https://www.realoka.com/417746-cluster-maleo-p...</td>\n",
       "      <td>2023</td>\n",
       "    </tr>\n",
       "    <tr>\n",
       "      <th>3</th>\n",
       "      <td>New Cluster Puri Jaya, Cluster Maleo, dekat Ko...</td>\n",
       "      <td>Puri Jaya Pasar Kemis Nur Sodik, Tangerang Kab</td>\n",
       "      <td>440000000</td>\n",
       "      <td>Deskripsi dan SpesifikasiPuri Jaya adalah PERU...</td>\n",
       "      <td>6 hari yang lalu</td>\n",
       "      <td>60</td>\n",
       "      <td>31</td>\n",
       "      <td>2</td>\n",
       "      <td>1</td>\n",
       "      <td>SHM - Sertifikat Hak Milik</td>\n",
       "      <td>...</td>\n",
       "      <td>0.0</td>\n",
       "      <td>0.0</td>\n",
       "      <td>1.0</td>\n",
       "      <td>1.0</td>\n",
       "      <td>1.0</td>\n",
       "      <td>1.0</td>\n",
       "      <td>0.0</td>\n",
       "      <td>Kabupaten Tangerang</td>\n",
       "      <td>https://www.realoka.com/408932-new-cluster-pur...</td>\n",
       "      <td>2023</td>\n",
       "    </tr>\n",
       "    <tr>\n",
       "      <th>4</th>\n",
       "      <td>Cluster Tanamera Residence dekat Bandara Soett...</td>\n",
       "      <td>Jalan Gatot Subroto Tanah Merah Sepatan, Tang...</td>\n",
       "      <td>297000000</td>\n",
       "      <td>Deskripsi dan SpesifikasiCLUSTER TANAMERA RESI...</td>\n",
       "      <td>1 minggu yang lalu</td>\n",
       "      <td>60</td>\n",
       "      <td>30</td>\n",
       "      <td>2</td>\n",
       "      <td>1</td>\n",
       "      <td>SHM - Sertifikat Hak Milik</td>\n",
       "      <td>...</td>\n",
       "      <td>1.0</td>\n",
       "      <td>1.0</td>\n",
       "      <td>1.0</td>\n",
       "      <td>1.0</td>\n",
       "      <td>1.0</td>\n",
       "      <td>0.0</td>\n",
       "      <td>1.0</td>\n",
       "      <td>Kabupaten Tangerang</td>\n",
       "      <td>https://www.realoka.com/410318-cluster-tanamer...</td>\n",
       "      <td>2023</td>\n",
       "    </tr>\n",
       "  </tbody>\n",
       "</table>\n",
       "<p>5 rows × 30 columns</p>\n",
       "</div>"
      ],
      "text/plain": [
       "                                          nama_rumah  \\\n",
       "0  Rumahku Matagara Tangerang dekat Pusat Pemerin...   \n",
       "1  Cluster Terbaru Puri, Cluster Maleo, Banyak Pr...   \n",
       "2     Cluster Maleo Puri Jaya Pasar Kemis, DP Bisa 0   \n",
       "3  New Cluster Puri Jaya, Cluster Maleo, dekat Ko...   \n",
       "4  Cluster Tanamera Residence dekat Bandara Soett...   \n",
       "\n",
       "                                              alamat      harga  \\\n",
       "0         Jalan Raya Puspem Tigaraksa, Tangerang Kab  320400000   \n",
       "1               Puri Jaya Pasar Kemis, Tangerang Kab  500000000   \n",
       "2               Puri Jaya Pasar Kemis, Tangerang Kab  500000000   \n",
       "3     Puri Jaya Pasar Kemis Nur Sodik, Tangerang Kab  440000000   \n",
       "4   Jalan Gatot Subroto Tanah Merah Sepatan, Tang...  297000000   \n",
       "\n",
       "                                           deskripsi        Tayang Sejak  \\\n",
       "0  Deskripsi dan SpesifikasiCLUSTER RUMAHKU MATAG...     9 jam yang lalu   \n",
       "1  Deskripsi dan SpesifikasiPuri Jaya Pasar Kemis...    15 jam yang lalu   \n",
       "2  Deskripsi dan SpesifikasiHunian cluster Maleo ...    16 jam yang lalu   \n",
       "3  Deskripsi dan SpesifikasiPuri Jaya adalah PERU...    6 hari yang lalu   \n",
       "4  Deskripsi dan SpesifikasiCLUSTER TANAMERA RESI...  1 minggu yang lalu   \n",
       "\n",
       "   Luas Tanah  Luas Bangunan  Kamar Tidur  Kamar Mandi  \\\n",
       "0          30             60            2            1   \n",
       "1          60             46            2            2   \n",
       "2          60             46            2            2   \n",
       "3          60             31            2            1   \n",
       "4          60             30            2            1   \n",
       "\n",
       "                   Sertifikat  ... Air Sumur Bor Balkon One Gate Pengamanan  \\\n",
       "0     HGB - Hak Guna Bangunan  ...           1.0    1.0      1.0        1.0   \n",
       "1  SHM - Sertifikat Hak Milik  ...           0.0    1.0      1.0        1.0   \n",
       "2  SHM - Sertifikat Hak Milik  ...           0.0    1.0      1.0        1.0   \n",
       "3  SHM - Sertifikat Hak Milik  ...           0.0    0.0      1.0        1.0   \n",
       "4  SHM - Sertifikat Hak Milik  ...           1.0    1.0      1.0        1.0   \n",
       "\n",
       "  Air PAM Kolam Renang  K. Pembantu              Wilayah  \\\n",
       "0     0.0          0.0          0.0  Kabupaten Tangerang   \n",
       "1     1.0          0.0          0.0  Kabupaten Tangerang   \n",
       "2     1.0          1.0          0.0  Kabupaten Tangerang   \n",
       "3     1.0          1.0          0.0  Kabupaten Tangerang   \n",
       "4     1.0          0.0          1.0  Kabupaten Tangerang   \n",
       "\n",
       "                                                 url  Tahun_Listing  \n",
       "0  https://www.realoka.com/417850-rumahku-matagar...           2023  \n",
       "1  https://www.realoka.com/412981-cluster-terbaru...           2023  \n",
       "2  https://www.realoka.com/417746-cluster-maleo-p...           2023  \n",
       "3  https://www.realoka.com/408932-new-cluster-pur...           2023  \n",
       "4  https://www.realoka.com/410318-cluster-tanamer...           2023  \n",
       "\n",
       "[5 rows x 30 columns]"
      ]
     },
     "execution_count": 26,
     "metadata": {},
     "output_type": "execute_result"
    }
   ],
   "source": [
    "# Fungsi untuk mengubah kolom Tayang Sejak menjadi Tahun Listing\n",
    "def convert_to_years(time_ago):\n",
    "    parts = time_ago.split()\n",
    "    if len(parts) == 4:\n",
    "        amount = int(parts[0])\n",
    "        unit = parts[1]\n",
    "        if unit in time_units:\n",
    "            total_time_difference = time_units[unit] * amount\n",
    "            current_datetime = datetime.now()\n",
    "            target_datetime = current_datetime - total_time_difference\n",
    "            return target_datetime.year\n",
    "    return None\n",
    "\n",
    "rumah['Tahun_Listing'] = rumah['Tayang Sejak'].apply(convert_to_years)\n",
    "rumah.head()"
   ]
  },
  {
   "cell_type": "code",
   "execution_count": null,
   "metadata": {},
   "outputs": [
    {
     "data": {
      "text/plain": [
       "array(['9 jam yang lalu', '15 jam yang lalu', '16 jam yang lalu',\n",
       "       '6 hari yang lalu', '1 minggu yang lalu', '7 jam yang lalu',\n",
       "       '17 jam yang lalu', '19 jam yang lalu', '20 jam yang lalu',\n",
       "       '1 hari yang lalu', '2 hari yang lalu', '3 hari yang lalu',\n",
       "       '4 hari yang lalu', '5 hari yang lalu', '2 minggu yang lalu',\n",
       "       '3 minggu yang lalu', '4 minggu yang lalu', '1 bulan yang lalu',\n",
       "       '2 bulan yang lalu', '3 bulan yang lalu', '4 bulan yang lalu',\n",
       "       '5 bulan yang lalu', '6 bulan yang lalu', '7 bulan yang lalu',\n",
       "       '8 bulan yang lalu', '9 bulan yang lalu', '10 bulan yang lalu',\n",
       "       '11 bulan yang lalu', '12 bulan yang lalu', '1 tahun yang lalu',\n",
       "       '2 tahun yang lalu', '3 tahun yang lalu'], dtype=object)"
      ]
     },
     "execution_count": 27,
     "metadata": {},
     "output_type": "execute_result"
    }
   ],
   "source": [
    "rumah['Tayang Sejak'].unique()"
   ]
  },
  {
   "cell_type": "code",
   "execution_count": null,
   "metadata": {},
   "outputs": [
    {
     "data": {
      "text/plain": [
       "Text(0.5, 1.0, 'Tahun Listing Rumah')"
      ]
     },
     "execution_count": 28,
     "metadata": {},
     "output_type": "execute_result"
    },
    {
     "data": {
      "image/png": "[encoded data removed]",
      "text/plain": [
       "<Figure size 640x480 with 1 Axes>"
      ]
     },
     "metadata": {},
     "output_type": "display_data"
    }
   ],
   "source": [
    "# Plot distribusi Tahun_Listing\n",
    "sns.countplot(x='Tahun_Listing', data=rumah)\n",
    "plt.title(\"Tahun Listing Rumah\")"
   ]
  },
  {
   "cell_type": "markdown",
   "metadata": {},
   "source": [
    "Kesimpulan:\n",
    "- Outliers dan Missing Values sudah berhasil diatasi\n",
    "- Persebaran harga rumah tidak mengikuti distribusi normal\n",
    "- Kebanyakan rumah memiliki luas tanah diantara 50m<sup>2</sup> sampai 75m<sup>2</sup>\n",
    "- Kebanyakan rumah memiliki luas bangunan diantara 25m<sup>2</sup> sampai 100m<sup>2</sup>\n",
    "- Kebanyakan rumah memiliki 2 kamar tidur\n",
    "- Kebanyakan rumah memiliki 1 kamar mandi\n",
    "- Kebanyakan rumah memiliki SHM - Sertifikat Hak Milik\n",
    "- Kebanyakan rumah memiliki kondisi baru\n",
    "- Kebanyakan rumah memiliki kelengkapan kosongan\n",
    "- Kebanyakan rumah memiliki 1 lantai\n",
    "- Kebanyakan rumah menghadap ke utara\n",
    "- Kebanyakan rumah memiliki daya listrik 1300 VA\n",
    "- Kebanyakan rumah memiliki parkiran untuk 1 mobil\n",
    "- Kebanyakan rumah tidak memiliki AC\n",
    "- Kebanyakan rumah tidak memiliki kitchen set\n",
    "- Kebanyakan rumah tidak memiliki alat dapur\n",
    "- Kebanyakan rumah tidak memiliki water heater\n",
    "- Kebanyakan rumah tidak memiliki air sumur bor\n",
    "- Kebanyakan rumah tidak memiliki balkon\n",
    "- Kebanyakan rumah memiliki one gate\n",
    "- Kebanyakan rumah memiliki pengamanan\n",
    "- Kebanyakan rumah tidak memiliki air pam\n",
    "- Kebanyakan rumah memiliki tidak memiliki kolam renang\n",
    "- Kebanyakan rumah tidak memiliki Kamar Pembantu\n",
    "- Kebanyakan rumah dilisting di tahun 2023  "
   ]
  },
  {
   "cell_type": "markdown",
   "metadata": {},
   "source": [
    "---\n",
    "### Data Pre-processing"
   ]
  },
  {
   "cell_type": "code",
   "execution_count": null,
   "metadata": {},
   "outputs": [
    {
     "name": "stdout",
     "output_type": "stream",
     "text": [
      "<class 'pandas.core.frame.DataFrame'>\n",
      "RangeIndex: 1762 entries, 0 to 1761\n",
      "Data columns (total 30 columns):\n",
      " #   Column         Non-Null Count  Dtype  \n",
      "---  ------         --------------  -----  \n",
      " 0   nama_rumah     1762 non-null   object \n",
      " 1   alamat         1762 non-null   object \n",
      " 2   harga          1762 non-null   int64  \n",
      " 3   deskripsi      1762 non-null   object \n",
      " 4   Tayang Sejak   1762 non-null   object \n",
      " 5   Luas Tanah     1762 non-null   int64  \n",
      " 6   Luas Bangunan  1762 non-null   int64  \n",
      " 7   Kamar Tidur    1762 non-null   int64  \n",
      " 8   Kamar Mandi    1762 non-null   int64  \n",
      " 9   Sertifikat     1762 non-null   object \n",
      " 10  Kondisi        1762 non-null   object \n",
      " 11  Kelengkapan    1762 non-null   object \n",
      " 12  Jumlah Lantai  1762 non-null   object \n",
      " 13  Menghadap      1762 non-null   object \n",
      " 14  Daya Listrik   1762 non-null   object \n",
      " 15  Parkir         1762 non-null   object \n",
      " 16  AC             1762 non-null   float64\n",
      " 17  Kitchen Set    1762 non-null   float64\n",
      " 18  Alat Dapur     1762 non-null   float64\n",
      " 19  Water Heater   1762 non-null   float64\n",
      " 20  Air Sumur Bor  1762 non-null   float64\n",
      " 21  Balkon         1762 non-null   float64\n",
      " 22  One Gate       1762 non-null   float64\n",
      " 23  Pengamanan     1762 non-null   float64\n",
      " 24  Air PAM        1762 non-null   float64\n",
      " 25  Kolam Renang   1762 non-null   float64\n",
      " 26  K. Pembantu    1762 non-null   float64\n",
      " 27  Wilayah        1762 non-null   object \n",
      " 28  url            1762 non-null   object \n",
      " 29  Tahun_Listing  1762 non-null   int64  \n",
      "dtypes: float64(11), int64(6), object(13)\n",
      "memory usage: 413.1+ KB\n"
     ]
    }
   ],
   "source": [
    "rumah.info()"
   ]
  },
  {
   "cell_type": "code",
   "execution_count": null,
   "metadata": {},
   "outputs": [
    {
     "name": "stdout",
     "output_type": "stream",
     "text": [
      "<class 'pandas.core.frame.DataFrame'>\n",
      "RangeIndex: 1762 entries, 0 to 1761\n",
      "Data columns (total 25 columns):\n",
      " #   Column         Non-Null Count  Dtype  \n",
      "---  ------         --------------  -----  \n",
      " 0   harga          1762 non-null   int64  \n",
      " 1   Luas Tanah     1762 non-null   int64  \n",
      " 2   Luas Bangunan  1762 non-null   int64  \n",
      " 3   Kamar Tidur    1762 non-null   int64  \n",
      " 4   Kamar Mandi    1762 non-null   int64  \n",
      " 5   Sertifikat     1762 non-null   object \n",
      " 6   Kondisi        1762 non-null   object \n",
      " 7   Kelengkapan    1762 non-null   object \n",
      " 8   Jumlah Lantai  1762 non-null   object \n",
      " 9   Menghadap      1762 non-null   object \n",
      " 10  Daya Listrik   1762 non-null   object \n",
      " 11  Parkir         1762 non-null   object \n",
      " 12  AC             1762 non-null   float64\n",
      " 13  Kitchen Set    1762 non-null   float64\n",
      " 14  Alat Dapur     1762 non-null   float64\n",
      " 15  Water Heater   1762 non-null   float64\n",
      " 16  Air Sumur Bor  1762 non-null   float64\n",
      " 17  Balkon         1762 non-null   float64\n",
      " 18  One Gate       1762 non-null   float64\n",
      " 19  Pengamanan     1762 non-null   float64\n",
      " 20  Air PAM        1762 non-null   float64\n",
      " 21  Kolam Renang   1762 non-null   float64\n",
      " 22  K. Pembantu    1762 non-null   float64\n",
      " 23  Wilayah        1762 non-null   object \n",
      " 24  Tahun_Listing  1762 non-null   int64  \n",
      "dtypes: float64(11), int64(6), object(8)\n",
      "memory usage: 344.3+ KB\n"
     ]
    }
   ],
   "source": [
    "# Drop kolom yang tidak digunakan\n",
    "rumah = rumah.drop(columns=['url', 'alamat', 'nama_rumah', 'deskripsi', 'Tayang Sejak'])\n",
    "rumah.info()"
   ]
  },
  {
   "cell_type": "markdown",
   "metadata": {},
   "source": [
    "Encoding kolom kategorikal"
   ]
  },
  {
   "cell_type": "code",
   "execution_count": null,
   "metadata": {},
   "outputs": [],
   "source": [
    "rumah_cat = rumah.select_dtypes(include=['object'])\n",
    "rmh_cat_col = rumah_cat.columns"
   ]
  },
  {
   "cell_type": "code",
   "execution_count": null,
   "metadata": {},
   "outputs": [
    {
     "name": "stdout",
     "output_type": "stream",
     "text": [
      "Nilai unik dari kolomSertifikat: ['HGB - Hak Guna Bangunan' 'SHM - Sertifikat Hak Milik'\n",
      " 'Lainnya (PPJB, Girik, Adat, dll.)' 'Hak Pakai' 'HGU - Hak Guna Usaha'\n",
      " 'Strata Title']\n",
      "\n",
      "Nilai unik dari kolomKondisi: ['Baru' 'Bekas']\n",
      "\n",
      "Nilai unik dari kolomKelengkapan: ['Kosongan' 'Full Furnished' 'Semi Furnished']\n",
      "\n",
      "Nilai unik dari kolomJumlah Lantai: ['1' '2' '3']\n",
      "\n",
      "Nilai unik dari kolomMenghadap: ['Timur' 'Lainnya' 'Utara' 'Selatan' 'Barat' 'Timur Laut' 'Barat Daya'\n",
      " 'Barat laut' 'Tenggara']\n",
      "\n",
      "Nilai unik dari kolomDaya Listrik: ['1300 VA' '2200 VA' '22000 VA' '13000 VA' '900 VA' 'Lainnya' '4400 VA'\n",
      " '220 VA' '2600 VA' '3500 VA' '1200 VA' '5000 VA' '3000 VA' '2300 VA'\n",
      " '9000 VA' '10600 VA' '3300 VA' '1400 VA' '1300000 VA' '2000 VA' '130 VA'\n",
      " '990 VA' '1500 VA' '130000 VA' '1000 VA' '950 VA']\n",
      "\n",
      "Nilai unik dari kolomParkir: ['1 mobil ' 'Lainnya ' '2 mobil ' '3 mobil ' '4 mobil ']\n",
      "\n",
      "Nilai unik dari kolomWilayah: ['Kabupaten Tangerang']\n",
      "\n"
     ]
    }
   ],
   "source": [
    "for i in rmh_cat_col:\n",
    "    print(f\"Nilai unik dari kolom{i}: {rumah[i].unique()}\\n\")"
   ]
  },
  {
   "cell_type": "code",
   "execution_count": null,
   "metadata": {},
   "outputs": [],
   "source": [
    "label_enc = LabelEncoder()\n",
    "\n",
    "for i in rmh_cat_col:\n",
    "    rumah[i] = label_enc.fit_transform(rumah[i])"
   ]
  },
  {
   "cell_type": "code",
   "execution_count": null,
   "metadata": {},
   "outputs": [
    {
     "data": {
      "text/html": [
       "<div>\n",
       "<style scoped>\n",
       "    .dataframe tbody tr th:only-of-type {\n",
       "        vertical-align: middle;\n",
       "    }\n",
       "\n",
       "    .dataframe tbody tr th {\n",
       "        vertical-align: top;\n",
       "    }\n",
       "\n",
       "    .dataframe thead th {\n",
       "        text-align: right;\n",
       "    }\n",
       "</style>\n",
       "<table border=\"1\" class=\"dataframe\">\n",
       "  <thead>\n",
       "    <tr style=\"text-align: right;\">\n",
       "      <th></th>\n",
       "      <th>harga</th>\n",
       "      <th>Luas Tanah</th>\n",
       "      <th>Luas Bangunan</th>\n",
       "      <th>Kamar Tidur</th>\n",
       "      <th>Kamar Mandi</th>\n",
       "      <th>Sertifikat</th>\n",
       "      <th>Kondisi</th>\n",
       "      <th>Kelengkapan</th>\n",
       "      <th>Jumlah Lantai</th>\n",
       "      <th>Menghadap</th>\n",
       "      <th>...</th>\n",
       "      <th>Water Heater</th>\n",
       "      <th>Air Sumur Bor</th>\n",
       "      <th>Balkon</th>\n",
       "      <th>One Gate</th>\n",
       "      <th>Pengamanan</th>\n",
       "      <th>Air PAM</th>\n",
       "      <th>Kolam Renang</th>\n",
       "      <th>K. Pembantu</th>\n",
       "      <th>Wilayah</th>\n",
       "      <th>Tahun_Listing</th>\n",
       "    </tr>\n",
       "  </thead>\n",
       "  <tbody>\n",
       "    <tr>\n",
       "      <th>0</th>\n",
       "      <td>320400000</td>\n",
       "      <td>30</td>\n",
       "      <td>60</td>\n",
       "      <td>2</td>\n",
       "      <td>1</td>\n",
       "      <td>0</td>\n",
       "      <td>0</td>\n",
       "      <td>1</td>\n",
       "      <td>0</td>\n",
       "      <td>6</td>\n",
       "      <td>...</td>\n",
       "      <td>1.0</td>\n",
       "      <td>1.0</td>\n",
       "      <td>1.0</td>\n",
       "      <td>1.0</td>\n",
       "      <td>1.0</td>\n",
       "      <td>0.0</td>\n",
       "      <td>0.0</td>\n",
       "      <td>0.0</td>\n",
       "      <td>0</td>\n",
       "      <td>2023</td>\n",
       "    </tr>\n",
       "    <tr>\n",
       "      <th>1</th>\n",
       "      <td>500000000</td>\n",
       "      <td>60</td>\n",
       "      <td>46</td>\n",
       "      <td>2</td>\n",
       "      <td>2</td>\n",
       "      <td>4</td>\n",
       "      <td>0</td>\n",
       "      <td>0</td>\n",
       "      <td>1</td>\n",
       "      <td>6</td>\n",
       "      <td>...</td>\n",
       "      <td>0.0</td>\n",
       "      <td>0.0</td>\n",
       "      <td>1.0</td>\n",
       "      <td>1.0</td>\n",
       "      <td>1.0</td>\n",
       "      <td>1.0</td>\n",
       "      <td>0.0</td>\n",
       "      <td>0.0</td>\n",
       "      <td>0</td>\n",
       "      <td>2023</td>\n",
       "    </tr>\n",
       "    <tr>\n",
       "      <th>2</th>\n",
       "      <td>500000000</td>\n",
       "      <td>60</td>\n",
       "      <td>46</td>\n",
       "      <td>2</td>\n",
       "      <td>2</td>\n",
       "      <td>4</td>\n",
       "      <td>0</td>\n",
       "      <td>0</td>\n",
       "      <td>1</td>\n",
       "      <td>6</td>\n",
       "      <td>...</td>\n",
       "      <td>0.0</td>\n",
       "      <td>0.0</td>\n",
       "      <td>1.0</td>\n",
       "      <td>1.0</td>\n",
       "      <td>1.0</td>\n",
       "      <td>1.0</td>\n",
       "      <td>1.0</td>\n",
       "      <td>0.0</td>\n",
       "      <td>0</td>\n",
       "      <td>2023</td>\n",
       "    </tr>\n",
       "    <tr>\n",
       "      <th>3</th>\n",
       "      <td>440000000</td>\n",
       "      <td>60</td>\n",
       "      <td>31</td>\n",
       "      <td>2</td>\n",
       "      <td>1</td>\n",
       "      <td>4</td>\n",
       "      <td>0</td>\n",
       "      <td>1</td>\n",
       "      <td>0</td>\n",
       "      <td>6</td>\n",
       "      <td>...</td>\n",
       "      <td>0.0</td>\n",
       "      <td>0.0</td>\n",
       "      <td>0.0</td>\n",
       "      <td>1.0</td>\n",
       "      <td>1.0</td>\n",
       "      <td>1.0</td>\n",
       "      <td>1.0</td>\n",
       "      <td>0.0</td>\n",
       "      <td>0</td>\n",
       "      <td>2023</td>\n",
       "    </tr>\n",
       "    <tr>\n",
       "      <th>4</th>\n",
       "      <td>297000000</td>\n",
       "      <td>60</td>\n",
       "      <td>30</td>\n",
       "      <td>2</td>\n",
       "      <td>1</td>\n",
       "      <td>4</td>\n",
       "      <td>0</td>\n",
       "      <td>1</td>\n",
       "      <td>0</td>\n",
       "      <td>6</td>\n",
       "      <td>...</td>\n",
       "      <td>0.0</td>\n",
       "      <td>1.0</td>\n",
       "      <td>1.0</td>\n",
       "      <td>1.0</td>\n",
       "      <td>1.0</td>\n",
       "      <td>1.0</td>\n",
       "      <td>0.0</td>\n",
       "      <td>1.0</td>\n",
       "      <td>0</td>\n",
       "      <td>2023</td>\n",
       "    </tr>\n",
       "  </tbody>\n",
       "</table>\n",
       "<p>5 rows × 25 columns</p>\n",
       "</div>"
      ],
      "text/plain": [
       "       harga  Luas Tanah  Luas Bangunan  Kamar Tidur  Kamar Mandi  Sertifikat  \\\n",
       "0  320400000          30             60            2            1           0   \n",
       "1  500000000          60             46            2            2           4   \n",
       "2  500000000          60             46            2            2           4   \n",
       "3  440000000          60             31            2            1           4   \n",
       "4  297000000          60             30            2            1           4   \n",
       "\n",
       "   Kondisi  Kelengkapan  Jumlah Lantai  Menghadap  ...  Water Heater  \\\n",
       "0        0            1              0          6  ...           1.0   \n",
       "1        0            0              1          6  ...           0.0   \n",
       "2        0            0              1          6  ...           0.0   \n",
       "3        0            1              0          6  ...           0.0   \n",
       "4        0            1              0          6  ...           0.0   \n",
       "\n",
       "   Air Sumur Bor  Balkon  One Gate  Pengamanan  Air PAM  Kolam Renang  \\\n",
       "0            1.0     1.0       1.0         1.0      0.0           0.0   \n",
       "1            0.0     1.0       1.0         1.0      1.0           0.0   \n",
       "2            0.0     1.0       1.0         1.0      1.0           1.0   \n",
       "3            0.0     0.0       1.0         1.0      1.0           1.0   \n",
       "4            1.0     1.0       1.0         1.0      1.0           0.0   \n",
       "\n",
       "   K. Pembantu  Wilayah  Tahun_Listing  \n",
       "0          0.0        0           2023  \n",
       "1          0.0        0           2023  \n",
       "2          0.0        0           2023  \n",
       "3          0.0        0           2023  \n",
       "4          1.0        0           2023  \n",
       "\n",
       "[5 rows x 25 columns]"
      ]
     },
     "execution_count": 34,
     "metadata": {},
     "output_type": "execute_result"
    }
   ],
   "source": [
    "rumah.head()"
   ]
  },
  {
   "cell_type": "code",
   "execution_count": null,
   "metadata": {},
   "outputs": [
    {
     "data": {
      "text/html": [
       "<div>\n",
       "<style scoped>\n",
       "    .dataframe tbody tr th:only-of-type {\n",
       "        vertical-align: middle;\n",
       "    }\n",
       "\n",
       "    .dataframe tbody tr th {\n",
       "        vertical-align: top;\n",
       "    }\n",
       "\n",
       "    .dataframe thead th {\n",
       "        text-align: right;\n",
       "    }\n",
       "</style>\n",
       "<table border=\"1\" class=\"dataframe\">\n",
       "  <thead>\n",
       "    <tr style=\"text-align: right;\">\n",
       "      <th></th>\n",
       "      <th>Luas Tanah</th>\n",
       "      <th>Luas Bangunan</th>\n",
       "      <th>Kamar Tidur</th>\n",
       "      <th>Kamar Mandi</th>\n",
       "      <th>Sertifikat</th>\n",
       "      <th>Kondisi</th>\n",
       "      <th>Kelengkapan</th>\n",
       "      <th>Jumlah Lantai</th>\n",
       "      <th>Menghadap</th>\n",
       "      <th>Daya Listrik</th>\n",
       "      <th>...</th>\n",
       "      <th>Water Heater</th>\n",
       "      <th>Air Sumur Bor</th>\n",
       "      <th>Balkon</th>\n",
       "      <th>One Gate</th>\n",
       "      <th>Pengamanan</th>\n",
       "      <th>Air PAM</th>\n",
       "      <th>Kolam Renang</th>\n",
       "      <th>K. Pembantu</th>\n",
       "      <th>Wilayah</th>\n",
       "      <th>Tahun_Listing</th>\n",
       "    </tr>\n",
       "  </thead>\n",
       "  <tbody>\n",
       "    <tr>\n",
       "      <th>0</th>\n",
       "      <td>30</td>\n",
       "      <td>60</td>\n",
       "      <td>2</td>\n",
       "      <td>1</td>\n",
       "      <td>0</td>\n",
       "      <td>0</td>\n",
       "      <td>1</td>\n",
       "      <td>0</td>\n",
       "      <td>6</td>\n",
       "      <td>4</td>\n",
       "      <td>...</td>\n",
       "      <td>1.0</td>\n",
       "      <td>1.0</td>\n",
       "      <td>1.0</td>\n",
       "      <td>1.0</td>\n",
       "      <td>1.0</td>\n",
       "      <td>0.0</td>\n",
       "      <td>0.0</td>\n",
       "      <td>0.0</td>\n",
       "      <td>0</td>\n",
       "      <td>2023</td>\n",
       "    </tr>\n",
       "    <tr>\n",
       "      <th>1</th>\n",
       "      <td>60</td>\n",
       "      <td>46</td>\n",
       "      <td>2</td>\n",
       "      <td>2</td>\n",
       "      <td>4</td>\n",
       "      <td>0</td>\n",
       "      <td>0</td>\n",
       "      <td>1</td>\n",
       "      <td>6</td>\n",
       "      <td>12</td>\n",
       "      <td>...</td>\n",
       "      <td>0.0</td>\n",
       "      <td>0.0</td>\n",
       "      <td>1.0</td>\n",
       "      <td>1.0</td>\n",
       "      <td>1.0</td>\n",
       "      <td>1.0</td>\n",
       "      <td>0.0</td>\n",
       "      <td>0.0</td>\n",
       "      <td>0</td>\n",
       "      <td>2023</td>\n",
       "    </tr>\n",
       "    <tr>\n",
       "      <th>2</th>\n",
       "      <td>60</td>\n",
       "      <td>46</td>\n",
       "      <td>2</td>\n",
       "      <td>2</td>\n",
       "      <td>4</td>\n",
       "      <td>0</td>\n",
       "      <td>0</td>\n",
       "      <td>1</td>\n",
       "      <td>6</td>\n",
       "      <td>12</td>\n",
       "      <td>...</td>\n",
       "      <td>0.0</td>\n",
       "      <td>0.0</td>\n",
       "      <td>1.0</td>\n",
       "      <td>1.0</td>\n",
       "      <td>1.0</td>\n",
       "      <td>1.0</td>\n",
       "      <td>1.0</td>\n",
       "      <td>0.0</td>\n",
       "      <td>0</td>\n",
       "      <td>2023</td>\n",
       "    </tr>\n",
       "    <tr>\n",
       "      <th>3</th>\n",
       "      <td>60</td>\n",
       "      <td>31</td>\n",
       "      <td>2</td>\n",
       "      <td>1</td>\n",
       "      <td>4</td>\n",
       "      <td>0</td>\n",
       "      <td>1</td>\n",
       "      <td>0</td>\n",
       "      <td>6</td>\n",
       "      <td>12</td>\n",
       "      <td>...</td>\n",
       "      <td>0.0</td>\n",
       "      <td>0.0</td>\n",
       "      <td>0.0</td>\n",
       "      <td>1.0</td>\n",
       "      <td>1.0</td>\n",
       "      <td>1.0</td>\n",
       "      <td>1.0</td>\n",
       "      <td>0.0</td>\n",
       "      <td>0</td>\n",
       "      <td>2023</td>\n",
       "    </tr>\n",
       "    <tr>\n",
       "      <th>4</th>\n",
       "      <td>60</td>\n",
       "      <td>30</td>\n",
       "      <td>2</td>\n",
       "      <td>1</td>\n",
       "      <td>4</td>\n",
       "      <td>0</td>\n",
       "      <td>1</td>\n",
       "      <td>0</td>\n",
       "      <td>6</td>\n",
       "      <td>4</td>\n",
       "      <td>...</td>\n",
       "      <td>0.0</td>\n",
       "      <td>1.0</td>\n",
       "      <td>1.0</td>\n",
       "      <td>1.0</td>\n",
       "      <td>1.0</td>\n",
       "      <td>1.0</td>\n",
       "      <td>0.0</td>\n",
       "      <td>1.0</td>\n",
       "      <td>0</td>\n",
       "      <td>2023</td>\n",
       "    </tr>\n",
       "    <tr>\n",
       "      <th>...</th>\n",
       "      <td>...</td>\n",
       "      <td>...</td>\n",
       "      <td>...</td>\n",
       "      <td>...</td>\n",
       "      <td>...</td>\n",
       "      <td>...</td>\n",
       "      <td>...</td>\n",
       "      <td>...</td>\n",
       "      <td>...</td>\n",
       "      <td>...</td>\n",
       "      <td>...</td>\n",
       "      <td>...</td>\n",
       "      <td>...</td>\n",
       "      <td>...</td>\n",
       "      <td>...</td>\n",
       "      <td>...</td>\n",
       "      <td>...</td>\n",
       "      <td>...</td>\n",
       "      <td>...</td>\n",
       "      <td>...</td>\n",
       "      <td>...</td>\n",
       "    </tr>\n",
       "    <tr>\n",
       "      <th>1757</th>\n",
       "      <td>60</td>\n",
       "      <td>33</td>\n",
       "      <td>2</td>\n",
       "      <td>1</td>\n",
       "      <td>3</td>\n",
       "      <td>0</td>\n",
       "      <td>1</td>\n",
       "      <td>0</td>\n",
       "      <td>4</td>\n",
       "      <td>25</td>\n",
       "      <td>...</td>\n",
       "      <td>0.0</td>\n",
       "      <td>0.0</td>\n",
       "      <td>0.0</td>\n",
       "      <td>0.0</td>\n",
       "      <td>0.0</td>\n",
       "      <td>0.0</td>\n",
       "      <td>0.0</td>\n",
       "      <td>0.0</td>\n",
       "      <td>0</td>\n",
       "      <td>2020</td>\n",
       "    </tr>\n",
       "    <tr>\n",
       "      <th>1758</th>\n",
       "      <td>120</td>\n",
       "      <td>120</td>\n",
       "      <td>2</td>\n",
       "      <td>2</td>\n",
       "      <td>4</td>\n",
       "      <td>1</td>\n",
       "      <td>1</td>\n",
       "      <td>0</td>\n",
       "      <td>3</td>\n",
       "      <td>25</td>\n",
       "      <td>...</td>\n",
       "      <td>0.0</td>\n",
       "      <td>0.0</td>\n",
       "      <td>0.0</td>\n",
       "      <td>0.0</td>\n",
       "      <td>0.0</td>\n",
       "      <td>0.0</td>\n",
       "      <td>0.0</td>\n",
       "      <td>0.0</td>\n",
       "      <td>0</td>\n",
       "      <td>2020</td>\n",
       "    </tr>\n",
       "    <tr>\n",
       "      <th>1759</th>\n",
       "      <td>84</td>\n",
       "      <td>30</td>\n",
       "      <td>2</td>\n",
       "      <td>1</td>\n",
       "      <td>0</td>\n",
       "      <td>1</td>\n",
       "      <td>1</td>\n",
       "      <td>0</td>\n",
       "      <td>6</td>\n",
       "      <td>25</td>\n",
       "      <td>...</td>\n",
       "      <td>0.0</td>\n",
       "      <td>0.0</td>\n",
       "      <td>0.0</td>\n",
       "      <td>1.0</td>\n",
       "      <td>0.0</td>\n",
       "      <td>0.0</td>\n",
       "      <td>0.0</td>\n",
       "      <td>0.0</td>\n",
       "      <td>0</td>\n",
       "      <td>2020</td>\n",
       "    </tr>\n",
       "    <tr>\n",
       "      <th>1760</th>\n",
       "      <td>72</td>\n",
       "      <td>45</td>\n",
       "      <td>2</td>\n",
       "      <td>1</td>\n",
       "      <td>4</td>\n",
       "      <td>1</td>\n",
       "      <td>1</td>\n",
       "      <td>0</td>\n",
       "      <td>8</td>\n",
       "      <td>25</td>\n",
       "      <td>...</td>\n",
       "      <td>0.0</td>\n",
       "      <td>0.0</td>\n",
       "      <td>0.0</td>\n",
       "      <td>0.0</td>\n",
       "      <td>0.0</td>\n",
       "      <td>0.0</td>\n",
       "      <td>0.0</td>\n",
       "      <td>0.0</td>\n",
       "      <td>0</td>\n",
       "      <td>2020</td>\n",
       "    </tr>\n",
       "    <tr>\n",
       "      <th>1761</th>\n",
       "      <td>60</td>\n",
       "      <td>36</td>\n",
       "      <td>2</td>\n",
       "      <td>1</td>\n",
       "      <td>4</td>\n",
       "      <td>0</td>\n",
       "      <td>1</td>\n",
       "      <td>0</td>\n",
       "      <td>6</td>\n",
       "      <td>25</td>\n",
       "      <td>...</td>\n",
       "      <td>0.0</td>\n",
       "      <td>0.0</td>\n",
       "      <td>0.0</td>\n",
       "      <td>1.0</td>\n",
       "      <td>1.0</td>\n",
       "      <td>0.0</td>\n",
       "      <td>1.0</td>\n",
       "      <td>0.0</td>\n",
       "      <td>0</td>\n",
       "      <td>2020</td>\n",
       "    </tr>\n",
       "  </tbody>\n",
       "</table>\n",
       "<p>1762 rows × 24 columns</p>\n",
       "</div>"
      ],
      "text/plain": [
       "      Luas Tanah  Luas Bangunan  Kamar Tidur  Kamar Mandi  Sertifikat  \\\n",
       "0             30             60            2            1           0   \n",
       "1             60             46            2            2           4   \n",
       "2             60             46            2            2           4   \n",
       "3             60             31            2            1           4   \n",
       "4             60             30            2            1           4   \n",
       "...          ...            ...          ...          ...         ...   \n",
       "1757          60             33            2            1           3   \n",
       "1758         120            120            2            2           4   \n",
       "1759          84             30            2            1           0   \n",
       "1760          72             45            2            1           4   \n",
       "1761          60             36            2            1           4   \n",
       "\n",
       "      Kondisi  Kelengkapan  Jumlah Lantai  Menghadap  Daya Listrik  ...  \\\n",
       "0           0            1              0          6             4  ...   \n",
       "1           0            0              1          6            12  ...   \n",
       "2           0            0              1          6            12  ...   \n",
       "3           0            1              0          6            12  ...   \n",
       "4           0            1              0          6             4  ...   \n",
       "...       ...          ...            ...        ...           ...  ...   \n",
       "1757        0            1              0          4            25  ...   \n",
       "1758        1            1              0          3            25  ...   \n",
       "1759        1            1              0          6            25  ...   \n",
       "1760        1            1              0          8            25  ...   \n",
       "1761        0            1              0          6            25  ...   \n",
       "\n",
       "      Water Heater  Air Sumur Bor  Balkon  One Gate  Pengamanan  Air PAM  \\\n",
       "0              1.0            1.0     1.0       1.0         1.0      0.0   \n",
       "1              0.0            0.0     1.0       1.0         1.0      1.0   \n",
       "2              0.0            0.0     1.0       1.0         1.0      1.0   \n",
       "3              0.0            0.0     0.0       1.0         1.0      1.0   \n",
       "4              0.0            1.0     1.0       1.0         1.0      1.0   \n",
       "...            ...            ...     ...       ...         ...      ...   \n",
       "1757           0.0            0.0     0.0       0.0         0.0      0.0   \n",
       "1758           0.0            0.0     0.0       0.0         0.0      0.0   \n",
       "1759           0.0            0.0     0.0       1.0         0.0      0.0   \n",
       "1760           0.0            0.0     0.0       0.0         0.0      0.0   \n",
       "1761           0.0            0.0     0.0       1.0         1.0      0.0   \n",
       "\n",
       "      Kolam Renang  K. Pembantu  Wilayah  Tahun_Listing  \n",
       "0              0.0          0.0        0           2023  \n",
       "1              0.0          0.0        0           2023  \n",
       "2              1.0          0.0        0           2023  \n",
       "3              1.0          0.0        0           2023  \n",
       "4              0.0          1.0        0           2023  \n",
       "...            ...          ...      ...            ...  \n",
       "1757           0.0          0.0        0           2020  \n",
       "1758           0.0          0.0        0           2020  \n",
       "1759           0.0          0.0        0           2020  \n",
       "1760           0.0          0.0        0           2020  \n",
       "1761           1.0          0.0        0           2020  \n",
       "\n",
       "[1762 rows x 24 columns]"
      ]
     },
     "execution_count": 35,
     "metadata": {},
     "output_type": "execute_result"
    }
   ],
   "source": [
    "X = rumah.iloc[:, 1:26]\n",
    "y = rumah['harga'].values\n",
    "X"
   ]
  },
  {
   "cell_type": "code",
   "execution_count": null,
   "metadata": {},
   "outputs": [],
   "source": [
    "ss = MinMaxScaler()\n",
    "X_scaled = ss.fit_transform(X)\n",
    "\n",
    "X_scaled_df = pd.DataFrame(X_scaled, columns=X.columns)"
   ]
  },
  {
   "cell_type": "code",
   "execution_count": null,
   "metadata": {},
   "outputs": [
    {
     "data": {
      "image/png": "[encoded data removed]",
      "text/plain": [
       "<Figure size 640x480 with 1 Axes>"
      ]
     },
     "metadata": {},
     "output_type": "display_data"
    }
   ],
   "source": [
    "# PCA\n",
    "from sklearn.decomposition import PCA\n",
    "\n",
    "pca = PCA()\n",
    "pca.fit(X_scaled)\n",
    "\n",
    "cumulative_explained_variance = np.cumsum(pca.explained_variance_ratio_)\n",
    "plt.plot(range(1, len(cumulative_explained_variance) + 1), cumulative_explained_variance, marker='o')\n",
    "plt.xlabel('Number of Components')\n",
    "plt.ylabel('Cumulative Explained Variance')\n",
    "plt.title('PCA - Cumulative Explained Variance')\n",
    "plt.grid(True)\n",
    "plt.show()"
   ]
  },
  {
   "cell_type": "code",
   "execution_count": null,
   "metadata": {},
   "outputs": [],
   "source": [
    "pca = PCA(n_components=20)\n",
    "X_scaled = pca.fit_transform(X_scaled)"
   ]
  },
  {
   "cell_type": "markdown",
   "metadata": {},
   "source": [
    "Feature selection menggunakan RF feature importance"
   ]
  },
  {
   "cell_type": "code",
   "execution_count": null,
   "metadata": {},
   "outputs": [
    {
     "name": "stdout",
     "output_type": "stream",
     "text": [
      "Shape of Train set: \n",
      "X_train (1409, 20) | y_train (1409,)\n",
      "\n",
      "Shape of Test set: \n",
      "X_test (353, 20) | y_test (353,)\n"
     ]
    }
   ],
   "source": [
    "X_train, X_test, y_train, y_test = train_test_split(X_scaled, y, test_size=0.2, random_state=42)\n",
    "print(f\"Shape of Train set: \\nX_train {X_train.shape} | y_train {y_train.shape}\\n\")\n",
    "print(f\"Shape of Test set: \\nX_test {X_test.shape} | y_test {y_test.shape}\")"
   ]
  },
  {
   "cell_type": "code",
   "execution_count": null,
   "metadata": {},
   "outputs": [
    {
     "data": {
      "image/png": "[encoded data removed]",
      "text/plain": [
       "<Figure size 1000x600 with 1 Axes>"
      ]
     },
     "metadata": {},
     "output_type": "display_data"
    }
   ],
   "source": [
    "rf = RandomForestRegressor()\n",
    "rf.fit(X_train, y_train)\n",
    "\n",
    "fi = rf.feature_importances_\n",
    "\n",
    "feat_name = X_scaled_df.columns\n",
    "\n",
    "# Sort features by importance in descending order\n",
    "sorted_idx = fi.argsort()[::-1]\n",
    "\n",
    "# Create a bar plot to visualize feature importance\n",
    "plt.figure(figsize=(10, 6))\n",
    "plt.barh(range(len(sorted_idx)), fi[sorted_idx])\n",
    "plt.yticks(range(len(sorted_idx)), feat_name[sorted_idx])\n",
    "plt.title(\"Feature Importance\")\n",
    "plt.show()"
   ]
  },
  {
   "cell_type": "code",
   "execution_count": null,
   "metadata": {},
   "outputs": [
    {
     "data": {
      "text/plain": [
       "array([[ 1.21835771,  0.8783436 , -0.03488619, ...,  0.17751588,\n",
       "        -0.10881   ,  0.08318166],\n",
       "       [ 0.96739904, -0.261938  ,  0.76149492, ..., -0.27143146,\n",
       "         0.36716351, -0.11973259],\n",
       "       [ 0.99417183, -0.48089521,  1.04991279, ..., -0.26130563,\n",
       "         0.26383796, -0.09633187],\n",
       "       ...,\n",
       "       [-0.4290923 , -0.36810137, -0.29743071, ..., -0.02171939,\n",
       "         0.0747854 , -0.05388431],\n",
       "       [-1.02354039, -0.37674876,  0.05719923, ...,  0.01802517,\n",
       "         0.007729  , -0.10623065],\n",
       "       [ 0.83948191, -0.9340387 , -0.00565767, ...,  0.04156928,\n",
       "        -0.02893559,  0.01987639]])"
      ]
     },
     "execution_count": 41,
     "metadata": {},
     "output_type": "execute_result"
    }
   ],
   "source": [
    "X = X_scaled\n",
    "y = rumah['harga']\n",
    "X"
   ]
  },
  {
   "cell_type": "code",
   "execution_count": null,
   "metadata": {},
   "outputs": [],
   "source": [
    "X_train, X_test, y_train, y_test = train_test_split(X,y,test_size=0.2, random_state=42)"
   ]
  },
  {
   "cell_type": "markdown",
   "metadata": {},
   "source": [
    "---\n",
    "### Modeling\n",
    "Tanpa tuning hyperparameter\n",
    "Linear Regression"
   ]
  },
  {
   "cell_type": "code",
   "execution_count": null,
   "metadata": {},
   "outputs": [],
   "source": [
    "lr = LinearRegression()\n",
    "lr.fit(X_train, y_train)\n",
    "lr_red = lr.predict(X_test)"
   ]
  },
  {
   "cell_type": "code",
   "execution_count": null,
   "metadata": {},
   "outputs": [
    {
     "name": "stdout",
     "output_type": "stream",
     "text": [
      "Akurasi R2: 49.0%\n",
      "Akurasi MSE: 3.727835217860208e+18\n",
      "Akurasi MAE: 15076769129.0\n"
     ]
    }
   ],
   "source": [
    "# Akurasi:\n",
    "lr_r2 = r2_score(y_test, lr_red)\n",
    "lr_mse = mean_squared_error(y_test, lr_red)\n",
    "lr_mae = mean_absolute_error(y_test, lr_red)\n",
    "\n",
    "bbb = ['R2', 'MSE', \"MAE\"]\n",
    "acc = [lr_r2, lr_mse, lr_mae]\n",
    "\n",
    "for i, j in zip(bbb,acc):\n",
    "    if i == \"R2\":\n",
    "        print(f\"Akurasi {i}: {np.round(j,2)*100}%\")\n",
    "    else:\n",
    "        print(f\"Akurasi {i}: {np.round(j,2)*100}\")"
   ]
  },
  {
   "cell_type": "markdown",
   "metadata": {},
   "source": [
    "Tanpa tuning hyperparameter\n",
    "Random Forest"
   ]
  },
  {
   "cell_type": "code",
   "execution_count": null,
   "metadata": {},
   "outputs": [],
   "source": [
    "rf = RandomForestRegressor()\n",
    "rf.fit(X_train, y_train)\n",
    "rf_pred = rf.predict(X_test)"
   ]
  },
  {
   "cell_type": "code",
   "execution_count": null,
   "metadata": {},
   "outputs": [
    {
     "name": "stdout",
     "output_type": "stream",
     "text": [
      "Akurasi R2: 47.0%\n",
      "Akurasi MSE: 3.894266592003955e+18\n",
      "Akurasi MAE: 14533518706.0\n"
     ]
    }
   ],
   "source": [
    "# Akurasi:\n",
    "rf_r2 = r2_score(y_test, rf_pred)\n",
    "rf_mse = mean_squared_error(y_test, rf_pred)\n",
    "rf_mae = mean_absolute_error(y_test, rf_pred)\n",
    "\n",
    "bbb = ['R2', 'MSE', \"MAE\"]\n",
    "acc = [rf_r2, rf_mse, rf_mae]\n",
    "\n",
    "for i, j in zip(bbb,acc):\n",
    "    if i == \"R2\":\n",
    "        print(f\"Akurasi {i}: {np.round(j,2)*100}%\")\n",
    "    else:\n",
    "        print(f\"Akurasi {i}: {np.round(j,2)*100}\")"
   ]
  },
  {
   "cell_type": "markdown",
   "metadata": {},
   "source": [
    "Tanpa tuning hyperparameter\n",
    "XGBoost"
   ]
  },
  {
   "cell_type": "code",
   "execution_count": null,
   "metadata": {},
   "outputs": [],
   "source": [
    "xgb = XGBRegressor()\n",
    "xgb.fit(X_train, y_train)\n",
    "xgb_pred = xgb.predict(X_test)"
   ]
  },
  {
   "cell_type": "code",
   "execution_count": null,
   "metadata": {},
   "outputs": [
    {
     "name": "stdout",
     "output_type": "stream",
     "text": [
      "Akurasi R2: 42.0%\n",
      "Akurasi MSE: 4.3135397473143823e+18\n",
      "Akurasi MAE: 15039859688.0\n"
     ]
    }
   ],
   "source": [
    "# Akurasi:\n",
    "xgb_r2 = r2_score(y_test, xgb_pred)\n",
    "xgb_mse = mean_squared_error(y_test, xgb_pred)\n",
    "xgb_mae = mean_absolute_error(y_test, xgb_pred)\n",
    "\n",
    "bbb = ['R2', 'MSE', \"MAE\"]\n",
    "acc = [xgb_r2, xgb_mse, xgb_mae]\n",
    "\n",
    "for i, j in zip(bbb,acc):\n",
    "    if i == \"R2\":\n",
    "        print(f\"Akurasi {i}: {np.round(j,2)*100}%\")\n",
    "    else:\n",
    "        print(f\"Akurasi {i}: {np.round(j,2)*100}\")"
   ]
  },
  {
   "cell_type": "markdown",
   "metadata": {},
   "source": [
    "Dengan tuning hyperparameter\n",
    "Linear regression"
   ]
  },
  {
   "cell_type": "code",
   "execution_count": null,
   "metadata": {},
   "outputs": [
    {
     "name": "stdout",
     "output_type": "stream",
     "text": [
      "Best Lasso alpha: 10\n",
      "Best Ridge alpha: 1\n"
     ]
    }
   ],
   "source": [
    "# Hyperparameter tuning linear regression dengan regulatization\n",
    "# Mendefinisikan model\n",
    "models = {'Lasso': Lasso(), 'Ridge': Ridge()}\n",
    "\n",
    "# Mencari alpha/lambda terbaik\n",
    "param_grid = {'alpha': [0.01, 0.1, 1, 10]}\n",
    "best_alphas = {}\n",
    "\n",
    "for name, model in models.items():\n",
    "    grid_search = GridSearchCV(model, param_grid, cv=5)\n",
    "    grid_search.fit(X_train, y_train)\n",
    "    best_alphas[name] = grid_search.best_params_['alpha']\n",
    "    print(f'Best {name} alpha: {best_alphas[name]}')"
   ]
  },
  {
   "cell_type": "code",
   "execution_count": null,
   "metadata": {},
   "outputs": [],
   "source": [
    "from sklearn.pipeline import make_pipeline\n",
    "from sklearn.preprocessing import PolynomialFeatures\n",
    "\n",
    "lasso_lr = Lasso(alpha=10)\n",
    "lasso_lr.fit(X_train, y_train)\n",
    "lasso_pred = lasso_lr.predict(X_test)"
   ]
  },
  {
   "cell_type": "code",
   "execution_count": null,
   "metadata": {},
   "outputs": [
    {
     "name": "stdout",
     "output_type": "stream",
     "text": [
      "Akurasi R2: 49.0%\n",
      "Akurasi MSE: 3.727835252313148e+18\n",
      "Akurasi MAE: 15076769540.0\n"
     ]
    }
   ],
   "source": [
    "# Akurasi:\n",
    "lasso_r2 = r2_score(y_test, lasso_pred)\n",
    "lasso_mse = mean_squared_error(y_test, lasso_pred)\n",
    "lasso_mae = mean_absolute_error(y_test, lasso_pred)\n",
    "\n",
    "bbb = ['R2', 'MSE', \"MAE\"]\n",
    "acc = [lasso_r2, lasso_mse, lasso_mae]\n",
    "\n",
    "for i, j in zip(bbb,acc):\n",
    "    if i == \"R2\":\n",
    "        print(f\"Akurasi {i}: {np.round(j,2)*100}%\")\n",
    "    else:\n",
    "        print(f\"Akurasi {i}: {np.round(j,2)*100}\")"
   ]
  },
  {
   "cell_type": "code",
   "execution_count": null,
   "metadata": {},
   "outputs": [],
   "source": [
    "ridge_lr = Ridge(alpha=10)\n",
    "ridge_lr.fit(X_train, y_train)\n",
    "ridge_pred = ridge_lr.predict(X_test)"
   ]
  },
  {
   "cell_type": "code",
   "execution_count": null,
   "metadata": {},
   "outputs": [
    {
     "name": "stdout",
     "output_type": "stream",
     "text": [
      "Akurasi R2: 48.0%\n",
      "Akurasi MSE: 3.801746983402936e+18\n",
      "Akurasi MAE: 15324850954.0\n"
     ]
    }
   ],
   "source": [
    "# Akurasi:\n",
    "ridge_r2 = r2_score(y_test, ridge_pred)\n",
    "ridge_mse = mean_squared_error(y_test, ridge_pred)\n",
    "ridge_mae = mean_absolute_error(y_test, ridge_pred)\n",
    "\n",
    "bbb = ['R2', 'MSE', \"MAE\"]\n",
    "acc = [ridge_r2, ridge_mse, ridge_mae]\n",
    "\n",
    "for i, j in zip(bbb,acc):\n",
    "    if i == \"R2\":\n",
    "        print(f\"Akurasi {i}: {np.round(j,2)*100}%\")\n",
    "    else:\n",
    "        print(f\"Akurasi {i}: {np.round(j,2)*100}\")"
   ]
  },
  {
   "cell_type": "code",
   "execution_count": null,
   "metadata": {},
   "outputs": [],
   "source": []
  },
  {
   "cell_type": "code",
   "execution_count": null,
   "metadata": {},
   "outputs": [
    {
     "name": "stdout",
     "output_type": "stream",
     "text": [
      "{'n_estimators': [200, 400, 600, 800, 1000, 1200, 1400, 1600, 1800, 2000], 'max_features': ['auto', 'sqrt'], 'max_depth': [2, 3, 5, 10, 20, 30, 40, 50, 60, 70, 80, 90, 100, 110, None], 'min_samples_split': [2, 5, 10], 'min_samples_leaf': [1, 2, 4], 'bootstrap': [True, False]}\n"
     ]
    }
   ],
   "source": [
    "# Randomized Search CV\n",
    "\n",
    "n_estimators = [int(x) for x in np.linspace(start=200, stop=2000, num=10)]\n",
    "max_feat = ['auto', 'sqrt']\n",
    "max_depth = [2,3,5,10,20,30,40,50,60,70,80,90,100,110]\n",
    "max_depth.append(None)\n",
    "min_samples_split=[2,5,10]\n",
    "min_sample_leaf = [1,2,4]\n",
    "bootstrap = [True, False]\n",
    "\n",
    "random_grid = {'n_estimators':n_estimators,\n",
    "               'max_features':max_feat,\n",
    "               'max_depth':max_depth,\n",
    "               'min_samples_split':min_samples_split,\n",
    "               'min_samples_leaf':min_sample_leaf,\n",
    "               'bootstrap':bootstrap}\n",
    "\n",
    "print(random_grid)"
   ]
  },
  {
   "cell_type": "code",
   "execution_count": null,
   "metadata": {},
   "outputs": [
    {
     "name": "stdout",
     "output_type": "stream",
     "text": [
      "Fitting 5 folds for each of 10 candidates, totalling 50 fits\n"
     ]
    },
    {
     "name": "stdout",
     "output_type": "stream",
     "text": [
      "[CV] END bootstrap=True, max_depth=20, max_features=sqrt, min_samples_leaf=2, min_samples_split=10, n_estimators=200; total time=   1.2s\n",
      "[CV] END bootstrap=True, max_depth=20, max_features=sqrt, min_samples_leaf=2, min_samples_split=10, n_estimators=200; total time=   1.2s\n",
      "[CV] END bootstrap=True, max_depth=20, max_features=sqrt, min_samples_leaf=2, min_samples_split=10, n_estimators=200; total time=   1.2s\n",
      "[CV] END bootstrap=True, max_depth=20, max_features=sqrt, min_samples_leaf=2, min_samples_split=10, n_estimators=200; total time=   1.2s\n",
      "[CV] END bootstrap=True, max_depth=20, max_features=sqrt, min_samples_leaf=2, min_samples_split=10, n_estimators=200; total time=   1.2s\n",
      "[CV] END bootstrap=False, max_depth=None, max_features=sqrt, min_samples_leaf=4, min_samples_split=10, n_estimators=200; total time=   1.4s\n",
      "[CV] END bootstrap=False, max_depth=None, max_features=sqrt, min_samples_leaf=4, min_samples_split=10, n_estimators=200; total time=   1.4s\n",
      "[CV] END bootstrap=False, max_depth=None, max_features=sqrt, min_samples_leaf=4, min_samples_split=10, n_estimators=200; total time=   1.4s\n",
      "[CV] END bootstrap=False, max_depth=None, max_features=sqrt, min_samples_leaf=4, min_samples_split=10, n_estimators=200; total time=   1.4s\n",
      "[CV] END bootstrap=False, max_depth=None, max_features=sqrt, min_samples_leaf=4, min_samples_split=10, n_estimators=200; total time=   1.4s\n",
      "[CV] END bootstrap=False, max_depth=None, max_features=auto, min_samples_leaf=1, min_samples_split=2, n_estimators=1400; total time=   0.0s\n",
      "[CV] END bootstrap=False, max_depth=None, max_features=auto, min_samples_leaf=1, min_samples_split=2, n_estimators=1400; total time=   0.0s\n",
      "[CV] END bootstrap=False, max_depth=None, max_features=auto, min_samples_leaf=1, min_samples_split=2, n_estimators=1400; total time=   0.0s\n",
      "[CV] END bootstrap=False, max_depth=None, max_features=auto, min_samples_leaf=1, min_samples_split=2, n_estimators=1400; total time=   0.0s\n",
      "[CV] END bootstrap=False, max_depth=None, max_features=auto, min_samples_leaf=1, min_samples_split=2, n_estimators=1400; total time=   0.0s\n",
      "[CV] END bootstrap=False, max_depth=110, max_features=sqrt, min_samples_leaf=4, min_samples_split=2, n_estimators=400; total time=   3.1s\n",
      "[CV] END bootstrap=False, max_depth=110, max_features=sqrt, min_samples_leaf=4, min_samples_split=2, n_estimators=400; total time=   3.0s\n",
      "[CV] END bootstrap=False, max_depth=110, max_features=sqrt, min_samples_leaf=4, min_samples_split=2, n_estimators=400; total time=   3.0s\n",
      "[CV] END bootstrap=False, max_depth=110, max_features=sqrt, min_samples_leaf=4, min_samples_split=2, n_estimators=400; total time=   3.0s\n",
      "[CV] END bootstrap=False, max_depth=110, max_features=sqrt, min_samples_leaf=4, min_samples_split=2, n_estimators=400; total time=   3.0s\n",
      "[CV] END bootstrap=False, max_depth=30, max_features=sqrt, min_samples_leaf=4, min_samples_split=10, n_estimators=600; total time=   4.4s\n",
      "[CV] END bootstrap=False, max_depth=30, max_features=sqrt, min_samples_leaf=4, min_samples_split=10, n_estimators=600; total time=   4.4s\n",
      "[CV] END bootstrap=False, max_depth=30, max_features=sqrt, min_samples_leaf=4, min_samples_split=10, n_estimators=600; total time=   4.3s\n",
      "[CV] END bootstrap=False, max_depth=30, max_features=sqrt, min_samples_leaf=4, min_samples_split=10, n_estimators=600; total time=   4.3s\n",
      "[CV] END bootstrap=False, max_depth=30, max_features=sqrt, min_samples_leaf=4, min_samples_split=10, n_estimators=600; total time=   4.3s\n",
      "[CV] END bootstrap=False, max_depth=5, max_features=auto, min_samples_leaf=2, min_samples_split=2, n_estimators=600; total time=   0.0s\n",
      "[CV] END bootstrap=False, max_depth=5, max_features=auto, min_samples_leaf=2, min_samples_split=2, n_estimators=600; total time=   0.0s\n",
      "[CV] END bootstrap=False, max_depth=5, max_features=auto, min_samples_leaf=2, min_samples_split=2, n_estimators=600; total time=   0.0s\n",
      "[CV] END bootstrap=False, max_depth=5, max_features=auto, min_samples_leaf=2, min_samples_split=2, n_estimators=600; total time=   0.0s\n",
      "[CV] END bootstrap=False, max_depth=5, max_features=auto, min_samples_leaf=2, min_samples_split=2, n_estimators=600; total time=   0.0s\n",
      "[CV] END bootstrap=True, max_depth=5, max_features=sqrt, min_samples_leaf=1, min_samples_split=5, n_estimators=1400; total time=   5.3s\n",
      "[CV] END bootstrap=True, max_depth=5, max_features=sqrt, min_samples_leaf=1, min_samples_split=5, n_estimators=1400; total time=   5.2s\n",
      "[CV] END bootstrap=True, max_depth=5, max_features=sqrt, min_samples_leaf=1, min_samples_split=5, n_estimators=1400; total time=   5.3s\n",
      "[CV] END bootstrap=True, max_depth=5, max_features=sqrt, min_samples_leaf=1, min_samples_split=5, n_estimators=1400; total time=   5.4s\n",
      "[CV] END bootstrap=True, max_depth=5, max_features=sqrt, min_samples_leaf=1, min_samples_split=5, n_estimators=1400; total time=   5.7s\n",
      "[CV] END bootstrap=False, max_depth=None, max_features=sqrt, min_samples_leaf=1, min_samples_split=10, n_estimators=1000; total time=   8.9s\n",
      "[CV] END bootstrap=False, max_depth=None, max_features=sqrt, min_samples_leaf=1, min_samples_split=10, n_estimators=1000; total time=   8.7s\n",
      "[CV] END bootstrap=False, max_depth=None, max_features=sqrt, min_samples_leaf=1, min_samples_split=10, n_estimators=1000; total time=   8.6s\n",
      "[CV] END bootstrap=False, max_depth=None, max_features=sqrt, min_samples_leaf=1, min_samples_split=10, n_estimators=1000; total time=   8.5s\n",
      "[CV] END bootstrap=False, max_depth=None, max_features=sqrt, min_samples_leaf=1, min_samples_split=10, n_estimators=1000; total time=   8.4s\n",
      "[CV] END bootstrap=False, max_depth=70, max_features=sqrt, min_samples_leaf=1, min_samples_split=5, n_estimators=1400; total time=  13.2s\n",
      "[CV] END bootstrap=False, max_depth=70, max_features=sqrt, min_samples_leaf=1, min_samples_split=5, n_estimators=1400; total time=  13.1s\n",
      "[CV] END bootstrap=False, max_depth=70, max_features=sqrt, min_samples_leaf=1, min_samples_split=5, n_estimators=1400; total time=  13.0s\n",
      "[CV] END bootstrap=False, max_depth=70, max_features=sqrt, min_samples_leaf=1, min_samples_split=5, n_estimators=1400; total time=  13.0s\n",
      "[CV] END bootstrap=False, max_depth=70, max_features=sqrt, min_samples_leaf=1, min_samples_split=5, n_estimators=1400; total time=  13.2s\n",
      "[CV] END bootstrap=False, max_depth=20, max_features=auto, min_samples_leaf=1, min_samples_split=10, n_estimators=1000; total time=   0.0s\n",
      "[CV] END bootstrap=False, max_depth=20, max_features=auto, min_samples_leaf=1, min_samples_split=10, n_estimators=1000; total time=   0.0s\n",
      "[CV] END bootstrap=False, max_depth=20, max_features=auto, min_samples_leaf=1, min_samples_split=10, n_estimators=1000; total time=   0.0s\n",
      "[CV] END bootstrap=False, max_depth=20, max_features=auto, min_samples_leaf=1, min_samples_split=10, n_estimators=1000; total time=   0.0s\n",
      "[CV] END bootstrap=False, max_depth=20, max_features=auto, min_samples_leaf=1, min_samples_split=10, n_estimators=1000; total time=   0.0s\n"
     ]
    },
    {
     "data": {
      "text/html": [
       "<style>#sk-container-id-1 {color: black;}#sk-container-id-1 pre{padding: 0;}#sk-container-id-1 div.sk-toggleable {background-color: white;}#sk-container-id-1 label.sk-toggleable__label {cursor: pointer;display: block;width: 100%;margin-bottom: 0;padding: 0.3em;box-sizing: border-box;text-align: center;}#sk-container-id-1 label.sk-toggleable__label-arrow:before {content: \"▸\";float: left;margin-right: 0.25em;color: #696969;}#sk-container-id-1 label.sk-toggleable__label-arrow:hover:before {color: black;}#sk-container-id-1 div.sk-estimator:hover label.sk-toggleable__label-arrow:before {color: black;}#sk-container-id-1 div.sk-toggleable__content {max-height: 0;max-width: 0;overflow: hidden;text-align: left;background-color: #f0f8ff;}#sk-container-id-1 div.sk-toggleable__content pre {margin: 0.2em;color: black;border-radius: 0.25em;background-color: #f0f8ff;}#sk-container-id-1 input.sk-toggleable__control:checked~div.sk-toggleable__content {max-height: 200px;max-width: 100%;overflow: auto;}#sk-container-id-1 input.sk-toggleable__control:checked~label.sk-toggleable__label-arrow:before {content: \"▾\";}#sk-container-id-1 div.sk-estimator input.sk-toggleable__control:checked~label.sk-toggleable__label {background-color: #d4ebff;}#sk-container-id-1 div.sk-label input.sk-toggleable__control:checked~label.sk-toggleable__label {background-color: #d4ebff;}#sk-container-id-1 input.sk-hidden--visually {border: 0;clip: rect(1px 1px 1px 1px);clip: rect(1px, 1px, 1px, 1px);height: 1px;margin: -1px;overflow: hidden;padding: 0;position: absolute;width: 1px;}#sk-container-id-1 div.sk-estimator {font-family: monospace;background-color: #f0f8ff;border: 1px dotted black;border-radius: 0.25em;box-sizing: border-box;margin-bottom: 0.5em;}#sk-container-id-1 div.sk-estimator:hover {background-color: #d4ebff;}#sk-container-id-1 div.sk-parallel-item::after {content: \"\";width: 100%;border-bottom: 1px solid gray;flex-grow: 1;}#sk-container-id-1 div.sk-label:hover label.sk-toggleable__label {background-color: #d4ebff;}#sk-container-id-1 div.sk-serial::before {content: \"\";position: absolute;border-left: 1px solid gray;box-sizing: border-box;top: 0;bottom: 0;left: 50%;z-index: 0;}#sk-container-id-1 div.sk-serial {display: flex;flex-direction: column;align-items: center;background-color: white;padding-right: 0.2em;padding-left: 0.2em;position: relative;}#sk-container-id-1 div.sk-item {position: relative;z-index: 1;}#sk-container-id-1 div.sk-parallel {display: flex;align-items: stretch;justify-content: center;background-color: white;position: relative;}#sk-container-id-1 div.sk-item::before, #sk-container-id-1 div.sk-parallel-item::before {content: \"\";position: absolute;border-left: 1px solid gray;box-sizing: border-box;top: 0;bottom: 0;left: 50%;z-index: -1;}#sk-container-id-1 div.sk-parallel-item {display: flex;flex-direction: column;z-index: 1;position: relative;background-color: white;}#sk-container-id-1 div.sk-parallel-item:first-child::after {align-self: flex-end;width: 50%;}#sk-container-id-1 div.sk-parallel-item:last-child::after {align-self: flex-start;width: 50%;}#sk-container-id-1 div.sk-parallel-item:only-child::after {width: 0;}#sk-container-id-1 div.sk-dashed-wrapped {border: 1px dashed gray;margin: 0 0.4em 0.5em 0.4em;box-sizing: border-box;padding-bottom: 0.4em;background-color: white;}#sk-container-id-1 div.sk-label label {font-family: monospace;font-weight: bold;display: inline-block;line-height: 1.2em;}#sk-container-id-1 div.sk-label-container {text-align: center;}#sk-container-id-1 div.sk-container {/* jupyter's `normalize.less` sets `[hidden] { display: none; }` but bootstrap.min.css set `[hidden] { display: none !important; }` so we also need the `!important` here to be able to override the default hidden behavior on the sphinx rendered scikit-learn.org. See: https://github.com/scikit-learn/scikit-learn/issues/21755 */display: inline-block !important;position: relative;}#sk-container-id-1 div.sk-text-repr-fallback {display: none;}</style><div id=\"sk-container-id-1\" class=\"sk-top-container\"><div class=\"sk-text-repr-fallback\"><pre>RandomizedSearchCV(cv=5, estimator=RandomForestRegressor(),\n",
       "                   param_distributions={&#x27;bootstrap&#x27;: [True, False],\n",
       "                                        &#x27;max_depth&#x27;: [2, 3, 5, 10, 20, 30, 40,\n",
       "                                                      50, 60, 70, 80, 90, 100,\n",
       "                                                      110, None],\n",
       "                                        &#x27;max_features&#x27;: [&#x27;auto&#x27;, &#x27;sqrt&#x27;],\n",
       "                                        &#x27;min_samples_leaf&#x27;: [1, 2, 4],\n",
       "                                        &#x27;min_samples_split&#x27;: [2, 5, 10],\n",
       "                                        &#x27;n_estimators&#x27;: [200, 400, 600, 800,\n",
       "                                                         1000, 1200, 1400, 1600,\n",
       "                                                         1800, 2000]},\n",
       "                   random_state=42, verbose=2)</pre><b>In a Jupyter environment, please rerun this cell to show the HTML representation or trust the notebook. <br />On GitHub, the HTML representation is unable to render, please try loading this page with nbviewer.org.</b></div><div class=\"sk-container\" hidden><div class=\"sk-item sk-dashed-wrapped\"><div class=\"sk-label-container\"><div class=\"sk-label sk-toggleable\"><input class=\"sk-toggleable__control sk-hidden--visually\" id=\"sk-estimator-id-1\" type=\"checkbox\" ><label for=\"sk-estimator-id-1\" class=\"sk-toggleable__label sk-toggleable__label-arrow\">RandomizedSearchCV</label><div class=\"sk-toggleable__content\"><pre>RandomizedSearchCV(cv=5, estimator=RandomForestRegressor(),\n",
       "                   param_distributions={&#x27;bootstrap&#x27;: [True, False],\n",
       "                                        &#x27;max_depth&#x27;: [2, 3, 5, 10, 20, 30, 40,\n",
       "                                                      50, 60, 70, 80, 90, 100,\n",
       "                                                      110, None],\n",
       "                                        &#x27;max_features&#x27;: [&#x27;auto&#x27;, &#x27;sqrt&#x27;],\n",
       "                                        &#x27;min_samples_leaf&#x27;: [1, 2, 4],\n",
       "                                        &#x27;min_samples_split&#x27;: [2, 5, 10],\n",
       "                                        &#x27;n_estimators&#x27;: [200, 400, 600, 800,\n",
       "                                                         1000, 1200, 1400, 1600,\n",
       "                                                         1800, 2000]},\n",
       "                   random_state=42, verbose=2)</pre></div></div></div><div class=\"sk-parallel\"><div class=\"sk-parallel-item\"><div class=\"sk-item\"><div class=\"sk-label-container\"><div class=\"sk-label sk-toggleable\"><input class=\"sk-toggleable__control sk-hidden--visually\" id=\"sk-estimator-id-2\" type=\"checkbox\" ><label for=\"sk-estimator-id-2\" class=\"sk-toggleable__label sk-toggleable__label-arrow\">estimator: RandomForestRegressor</label><div class=\"sk-toggleable__content\"><pre>RandomForestRegressor()</pre></div></div></div><div class=\"sk-serial\"><div class=\"sk-item\"><div class=\"sk-estimator sk-toggleable\"><input class=\"sk-toggleable__control sk-hidden--visually\" id=\"sk-estimator-id-3\" type=\"checkbox\" ><label for=\"sk-estimator-id-3\" class=\"sk-toggleable__label sk-toggleable__label-arrow\">RandomForestRegressor</label><div class=\"sk-toggleable__content\"><pre>RandomForestRegressor()</pre></div></div></div></div></div></div></div></div></div></div>"
      ],
      "text/plain": [
       "RandomizedSearchCV(cv=5, estimator=RandomForestRegressor(),\n",
       "                   param_distributions={'bootstrap': [True, False],\n",
       "                                        'max_depth': [2, 3, 5, 10, 20, 30, 40,\n",
       "                                                      50, 60, 70, 80, 90, 100,\n",
       "                                                      110, None],\n",
       "                                        'max_features': ['auto', 'sqrt'],\n",
       "                                        'min_samples_leaf': [1, 2, 4],\n",
       "                                        'min_samples_split': [2, 5, 10],\n",
       "                                        'n_estimators': [200, 400, 600, 800,\n",
       "                                                         1000, 1200, 1400, 1600,\n",
       "                                                         1800, 2000]},\n",
       "                   random_state=42, verbose=2)"
      ]
     },
     "execution_count": 56,
     "metadata": {},
     "output_type": "execute_result"
    }
   ],
   "source": [
    "reg = RandomForestRegressor()\n",
    "rf_random = RandomizedSearchCV(estimator = reg,\n",
    "                               param_distributions=random_grid,\n",
    "                               n_iter=10, cv=5, verbose=2,\n",
    "                               random_state=42, n_jobs=None)\n",
    "rf_random.fit(X_train, y_train)"
   ]
  },
  {
   "cell_type": "code",
   "execution_count": null,
   "metadata": {},
   "outputs": [
    {
     "data": {
      "text/plain": [
       "{'n_estimators': 1000,\n",
       " 'min_samples_split': 10,\n",
       " 'min_samples_leaf': 1,\n",
       " 'max_features': 'sqrt',\n",
       " 'max_depth': None,\n",
       " 'bootstrap': False}"
      ]
     },
     "execution_count": 57,
     "metadata": {},
     "output_type": "execute_result"
    }
   ],
   "source": [
    "rf_random.best_params_"
   ]
  },
  {
   "cell_type": "code",
   "execution_count": null,
   "metadata": {},
   "outputs": [],
   "source": [
    "reg = RandomForestRegressor(n_estimators=1000, min_samples_split=10, min_samples_leaf=1,\n",
    "                            max_features='sqrt', max_depth=None, bootstrap=False)\n",
    "\n",
    "reg.fit(X_train, y_train)\n",
    "pred = reg.predict(X_test)"
   ]
  },
  {
   "cell_type": "code",
   "execution_count": null,
   "metadata": {},
   "outputs": [
    {
     "name": "stdout",
     "output_type": "stream",
     "text": [
      "Akurasi R2: 48.0%\n",
      "Akurasi MSE: 3.808997386967516e+18\n",
      "Akurasi MAE: 14519853763.999998\n"
     ]
    }
   ],
   "source": [
    "# Akurasi:\n",
    "reg_r2 = r2_score(y_test, pred)\n",
    "reg_mse = mean_squared_error(y_test, pred)\n",
    "reg_mae = mean_absolute_error(y_test, pred)\n",
    "\n",
    "bbb = ['R2', 'MSE', \"MAE\"]\n",
    "acc = [reg_r2, reg_mse, reg_mae]\n",
    "\n",
    "for i, j in zip(bbb,acc):\n",
    "    if i == \"R2\":\n",
    "        print(f\"Akurasi {i}: {np.round(j,2)*100}%\")\n",
    "    else:\n",
    "        print(f\"Akurasi {i}: {np.round(j,2)*100}\")"
   ]
  },
  {
   "cell_type": "code",
   "execution_count": null,
   "metadata": {},
   "outputs": [],
   "source": []
  }
 ],
 "metadata": {
  "kernelspec": {
   "display_name": "Python 3 (ipykernel)",
   "language": "python",
   "name": "python3"
  },
  "language_info": {
   "codemirror_mode": {
    "name": "ipython",
    "version": 3
   },
   "file_extension": ".py",
   "mimetype": "text/x-python",
   "name": "python",
   "nbconvert_exporter": "python",
   "pygments_lexer": "ipython3",
   "version": "3.11.4"
  }
 },
 "nbformat": 4,
 "nbformat_minor": 2
}
