{
 "cells": [
  {
   "cell_type": "markdown",
   "metadata": {},
   "source": [
    "### Prediksi Harga Rumah di Kabupaten Tangerang\n",
    "#### Daffa Kaisha Pratama Chandra - 55770\n",
    "---\n",
    "##### Import library yang dibutuhkan"
   ]
  },
  {
   "cell_type": "code",
   "execution_count": 1,
   "metadata": {},
   "outputs": [],
   "source": [
    "# Library dasar\n",
    "import pandas as pd\n",
    "import numpy as np\n",
    "\n",
    "# Library untuk visualisasi\n",
    "import matplotlib.pyplot as plt\n",
    "import seaborn as sns\n",
    "%matplotlib inline\n",
    "\n",
    "# Data Pre-processing\n",
    "from sklearn.preprocessing import StandardScaler, LabelEncoder\n",
    "from sklearn.model_selection import train_test_split, RandomizedSearchCV, KFold\n",
    "\n",
    "# Machine Learning\n",
    "from sklearn.linear_model import LinearRegression # Regresi linear\n",
    "from sklearn.ensemble import RandomForestRegressor # Random forest regressor\n",
    "from xgboost import XGBRegressor # XGBoost\n",
    "\n",
    "# Evaluation\n",
    "from sklearn.metrics import r2_score, mean_absolute_error, mean_squared_error"
   ]
  }
 ],
 "metadata": {
  "kernelspec": {
   "display_name": "sem5",
   "language": "python",
   "name": "python3"
  },
  "language_info": {
   "codemirror_mode": {
    "name": "ipython",
    "version": 3
   },
   "file_extension": ".py",
   "mimetype": "text/x-python",
   "name": "python",
   "nbconvert_exporter": "python",
   "pygments_lexer": "ipython3",
   "version": "3.11.4"
  }
 },
 "nbformat": 4,
 "nbformat_minor": 2
}
